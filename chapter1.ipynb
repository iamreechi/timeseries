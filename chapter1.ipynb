{
  "nbformat": 4,
  "nbformat_minor": 0,
  "metadata": {
    "colab": {
      "provenance": []
    },
    "kernelspec": {
      "name": "python3",
      "display_name": "Python 3"
    },
    "language_info": {
      "name": "python"
    }
  },
  "cells": [
    {
      "cell_type": "code",
      "execution_count": 3,
      "metadata": {
        "colab": {
          "base_uri": "https://localhost:8080/"
        },
        "collapsed": true,
        "id": "zKCscKzEit_X",
        "outputId": "4db52dfd-38cf-46df-803a-59eb98307fa3"
      },
      "outputs": [
        {
          "output_type": "stream",
          "name": "stdout",
          "text": [
            "File 'data' moved to '/content/drive/My Drive/timeseries/data' successfully.\n"
          ]
        }
      ],
      "source": [
        "# prompt: let move the downlaode file to drive\n",
        "\n",
        "import shutil\n",
        "import os\n",
        "\n",
        "# Replace 'downloaded_file.zip' with the actual name of your downloaded file\n",
        "downloaded_file = 'data'\n",
        "\n",
        "# Replace '/content/drive/My Drive/my_folder' with your desired destination folder in Google Drive\n",
        "destination_folder = '/content/drive/My Drive/timeseries'\n",
        "\n",
        "# Create the destination folder if it doesn't exist\n",
        "if not os.path.exists(destination_folder):\n",
        "  os.makedirs(destination_folder)\n",
        "\n",
        "# Construct the full destination path\n",
        "destination_path = os.path.join(destination_folder, downloaded_file)\n",
        "\n",
        "# Move the file\n",
        "try:\n",
        "  shutil.move(downloaded_file, destination_path)\n",
        "  print(f\"File '{downloaded_file}' moved to '{destination_path}' successfully.\")\n",
        "except FileNotFoundError:\n",
        "  print(f\"Error: File '{downloaded_file}' not found.\")\n",
        "except Exception as e:\n",
        "  print(f\"An error occurred: {e}\")\n"
      ]
    },
    {
      "cell_type": "code",
      "source": [
        "!git clone https://github.com/PacktPublishing/Modern-Time-Series-Forecasting-with-Python-2E.git"
      ],
      "metadata": {
        "colab": {
          "base_uri": "https://localhost:8080/"
        },
        "id": "u9FPzqUmdk7T",
        "outputId": "5b99ac81-2e36-4dd2-c5cb-6bc953ea3f78"
      },
      "execution_count": 6,
      "outputs": [
        {
          "output_type": "stream",
          "name": "stdout",
          "text": [
            "Cloning into 'Modern-Time-Series-Forecasting-with-Python-2E'...\n",
            "remote: Enumerating objects: 836, done.\u001b[K\n",
            "remote: Counting objects: 100% (237/237), done.\u001b[K\n",
            "remote: Compressing objects: 100% (141/141), done.\u001b[K\n",
            "remote: Total 836 (delta 131), reused 150 (delta 96), pack-reused 599 (from 1)\u001b[K\n",
            "Receiving objects: 100% (836/836), 101.37 MiB | 19.04 MiB/s, done.\n",
            "Resolving deltas: 100% (434/434), done.\n",
            "Updating files: 100% (155/155), done.\n"
          ]
        }
      ]
    },
    {
      "cell_type": "markdown",
      "source": [
        "**What is a time series?**\n",
        "\n",
        "To keep it simple, a time series is a set of observations taken sequentially in time. The focus is on the word time. If we keep taking the same observation at different points in time, we will get a time series. For example, if you keep recording the number of bars of chocolate you have in a month, you’ll end up with a time series of your chocolate consumption. Suppose you are recording your weight at the beginning of every month. You get another time series of your weight. Is there any relation between the two time series?\n",
        "\n",
        "\n",
        "**Types of time series**\n",
        "\n",
        "There are two types of time series data based on time intervals, as outlined here:\n",
        "\n",
        "**Regular time series:** This is the most common type of time series, where we have observations coming in at regular intervals of time, such as every hour or every month. For example, if we take a time series of temperature in a city, we will get the time series in a regular interval (whichever frequency we choose for observation).\n",
        "\n",
        "**Irregular time series:** There are a few time series where we do not have observations at regular intervals of time. For example, consider we have a sequence of readings from lab tests of a patient. We see an observation in the time series only when the patient heads to the clinic and carries out the lab test, and this may not happen at regular intervals.\n"
      ],
      "metadata": {
        "id": "hqj6q0XejMn4"
      }
    },
    {
      "cell_type": "markdown",
      "source": [
        "**Data-generating process (DGP)**\n",
        "\n",
        "We have seen that time series data is a collection of observations made sequentially along the time dimension. Any time series is, in turn, generated by some kind of mechanism. For example, time series data of daily shipments of your favorite chocolate from the manufacturing plant is affected by a lot of factors, such as the time of the year (holiday season, for example), the availability of cocoa, the uptime of the machines working on the plant, and so on. In statistics, this underlying process that generates the time series is referred to as the DGP. Time series data is produced by stochastic and deterministic processes. The deterministic processes involve quantities that evolve in a predictable manner over time. An example of this is the radioactive decay of an element, where the remaining quantity diminishes according to a precise mathematical formula, leading to a consistent reduction over time. But most of the interesting time series (from a forecasting perspective) are generated by a stochastic process. A stochastic process is a way to describe how things change over time in a random but somewhat predictable manner, like how the weather changes daily with some patterns and probabilities involved. So, let’s discuss more about time series generated from stochastic processes.\n",
        "\n",
        "\n",
        "If we had complete and perfect knowledge of reality, all we would need to do would be to put this DGP together in a mathematical form and you would get the most accurate forecast possible. But sadly, nobody has complete and perfect knowledge of reality. So, what we try to do is approximate the DGP, mathematically, as much as possible so that our imitation of the DGP gives us the best possible forecast (or any other output we want from the analysis). This imitation is called a model that provides a useful approximation of the DGP.\n",
        "\n",
        "But we must remember that the model is not the DGP, but a representation of some essential aspects of reality. For example, let’s consider an aerial view of London and a map of London\n",
        "\n",
        "[pic here]\n",
        "\n",
        "The map of London is certainly useful—we can use it to go from point A to point B. But a map of London is not the same as a photo of London. It doesn’t showcase the bustling nightlife or the insufferable traffic. A map is just a model that represents some useful features of a location, such as roads and places. The following diagram might help us internalize the concept and remember it:\n",
        "\n",
        "\n",
        "Naturally, the next question would be this:** Do we have a useful model?** Every model has limitations and challenges. As we have seen, a map of London does not perfectly represent London. But if our purpose is to navigate London, then a map is a very useful model. What if we want to understand the culture? A map doesn’t give you a flavor of that. So, now, the same model that was useful is utterly useless in the new context.\n",
        "\n",
        "Different kinds of models are required in different situations and for different objectives. For example, the best model for forecasting may not be the same as the best model for making a causal inference.\n",
        "\n",
        "We can use the concept of DGPs to generate multiple synthetic time series of varying degrees of complexity.\n"
      ],
      "metadata": {
        "id": "Z2D1L72-keTl"
      }
    },
    {
      "cell_type": "markdown",
      "source": [
        "**White and red noise**\n",
        "\n",
        "An extreme case of a stochastic process that generates a time series is a white noise process. It has a sequence of random numbers with zero mean and constant variance. This is also one of the most popular assumptions of noise in a time series.\n",
        "\n",
        "Let’s see how we can generate such a time series and plot it:"
      ],
      "metadata": {
        "id": "A_2tqcQGl2LP"
      }
    },
    {
      "cell_type": "code",
      "source": [
        "# !pip install --upgrade pip\n",
        "%pip install git+https://github.com/TimeSynth/TimeSynth.git"
      ],
      "metadata": {
        "colab": {
          "base_uri": "https://localhost:8080/"
        },
        "collapsed": true,
        "id": "9Jbc-rgxnLbR",
        "outputId": "2b782e8f-ccaa-4fda-d2d7-92b0915e9cf6"
      },
      "execution_count": 1,
      "outputs": [
        {
          "output_type": "stream",
          "name": "stdout",
          "text": [
            "Collecting git+https://github.com/TimeSynth/TimeSynth.git\n",
            "  Cloning https://github.com/TimeSynth/TimeSynth.git to /tmp/pip-req-build-z4u2o9o6\n",
            "  Running command git clone --filter=blob:none --quiet https://github.com/TimeSynth/TimeSynth.git /tmp/pip-req-build-z4u2o9o6\n",
            "  Resolved https://github.com/TimeSynth/TimeSynth.git to commit e50cdb9015d415adf46a4eae161a087c5c378564\n",
            "  Preparing metadata (setup.py) ... \u001b[?25l\u001b[?25hdone\n",
            "Requirement already satisfied: numpy in /usr/local/lib/python3.11/dist-packages (from timesynth==0.2.4) (2.0.2)\n",
            "Requirement already satisfied: scipy in /usr/local/lib/python3.11/dist-packages (from timesynth==0.2.4) (1.14.1)\n",
            "Requirement already satisfied: sympy in /usr/local/lib/python3.11/dist-packages (from timesynth==0.2.4) (1.13.1)\n",
            "Collecting symengine>=0.4 (from timesynth==0.2.4)\n",
            "  Downloading symengine-0.14.0-cp311-cp311-manylinux_2_17_x86_64.manylinux2014_x86_64.whl.metadata (1.3 kB)\n",
            "Collecting jitcdde==1.4 (from timesynth==0.2.4)\n",
            "  Downloading jitcdde-1.4.0.tar.gz (136 kB)\n",
            "\u001b[2K     \u001b[90m━━━━━━━━━━━━━━━━━━━━━━━━━━━━━━━━━━━━━━━━\u001b[0m \u001b[32m136.2/136.2 kB\u001b[0m \u001b[31m10.0 MB/s\u001b[0m eta \u001b[36m0:00:00\u001b[0m\n",
            "\u001b[?25h  Preparing metadata (setup.py) ... \u001b[?25l\u001b[?25hdone\n",
            "Collecting jitcxde_common==1.4.1 (from timesynth==0.2.4)\n",
            "  Downloading jitcxde_common-1.4.1.tar.gz (22 kB)\n",
            "  Preparing metadata (setup.py) ... \u001b[?25l\u001b[?25hdone\n",
            "Requirement already satisfied: jinja2 in /usr/local/lib/python3.11/dist-packages (from jitcxde_common==1.4.1->timesynth==0.2.4) (3.1.6)\n",
            "Requirement already satisfied: setuptools in /usr/local/lib/python3.11/dist-packages (from jitcxde_common==1.4.1->timesynth==0.2.4) (75.1.0)\n",
            "Requirement already satisfied: mpmath<1.4,>=1.1.0 in /usr/local/lib/python3.11/dist-packages (from sympy->timesynth==0.2.4) (1.3.0)\n",
            "Requirement already satisfied: MarkupSafe>=2.0 in /usr/local/lib/python3.11/dist-packages (from jinja2->jitcxde_common==1.4.1->timesynth==0.2.4) (3.0.2)\n",
            "Downloading symengine-0.14.0-cp311-cp311-manylinux_2_17_x86_64.manylinux2014_x86_64.whl (50.3 MB)\n",
            "\u001b[2K   \u001b[90m━━━━━━━━━━━━━━━━━━━━━━━━━━━━━━━━━━━━━━━━\u001b[0m \u001b[32m50.3/50.3 MB\u001b[0m \u001b[31m22.1 MB/s\u001b[0m eta \u001b[36m0:00:00\u001b[0m\n",
            "\u001b[?25hBuilding wheels for collected packages: timesynth, jitcdde, jitcxde_common\n",
            "  Building wheel for timesynth (setup.py) ... \u001b[?25l\u001b[?25hdone\n",
            "  Created wheel for timesynth: filename=timesynth-0.2.4-py3-none-any.whl size=15421 sha256=74d9c353f49cf4e114100c892316d3d82f355b6cb9e4d67d2a9499821f7c9ae6\n",
            "  Stored in directory: /tmp/pip-ephem-wheel-cache-z543ggch/wheels/e3/a5/a5/e6cafccbb8e59c9d5ad6b732cce8a5dbf8e3bd16f117669568\n",
            "  Building wheel for jitcdde (setup.py) ... \u001b[?25l\u001b[?25hdone\n",
            "  Created wheel for jitcdde: filename=jitcdde-1.4.0-py3-none-any.whl size=30800 sha256=521028b9ab6ae3a74775f9b363f64aabbc3c25d8525302daac476fa72f33b07f\n",
            "  Stored in directory: /root/.cache/pip/wheels/b8/ae/d4/a0926c7396fbe48cdb32e8a173206e68d4893b462a11be268d\n",
            "  Building wheel for jitcxde_common (setup.py) ... \u001b[?25l\u001b[?25hdone\n",
            "  Created wheel for jitcxde_common: filename=jitcxde_common-1.4.1-py3-none-any.whl size=15078 sha256=9b354e09dfde125539e32c572584158893bb38657ebaf2f071b4d85d8fe0ca4e\n",
            "  Stored in directory: /root/.cache/pip/wheels/f1/1c/1d/48d0e18b2f687f4d7743968f2649a9338ddd05347c9452de66\n",
            "Successfully built timesynth jitcdde jitcxde_common\n",
            "Installing collected packages: symengine, jitcxde_common, jitcdde, timesynth\n",
            "Successfully installed jitcdde-1.4.0 jitcxde_common-1.4.1 symengine-0.14.0 timesynth-0.2.4\n"
          ]
        }
      ]
    },
    {
      "cell_type": "code",
      "source": [
        "import numpy as np\n",
        "import matplotlib.pyplot as plt\n",
        "import os\n",
        "import plotly.express as px\n",
        "import plotly.io as pio\n",
        "\n",
        "pio.templates.default = \"plotly_white\"\n",
        "import timesynth as ts\n",
        "import pandas as pd\n",
        "np.random.seed()\n",
        "\n",
        "def plot_time_series(time, values, label, legends=None):\n",
        "    if legends is not None:\n",
        "        assert len(legends)==len(values)\n",
        "    if isinstance(values, list):\n",
        "        series_dict = {\"Time\": time}\n",
        "        for v, l in zip(values, legends):\n",
        "            series_dict[l] = v\n",
        "        plot_df = pd.DataFrame(series_dict)\n",
        "        plot_df = pd.melt(plot_df,id_vars=\"Time\",var_name=\"ts\", value_name=\"Value\")\n",
        "    else:\n",
        "        series_dict = {\"Time\": time, \"Value\": values, \"ts\":\"\"}\n",
        "        plot_df = pd.DataFrame(series_dict)\n",
        "\n",
        "    if isinstance(values, list):\n",
        "        fig = px.line(plot_df, x=\"Time\", y=\"Value\", line_dash=\"ts\")\n",
        "    else:\n",
        "        fig = px.line(plot_df, x=\"Time\", y=\"Value\")\n",
        "    fig.update_layout(\n",
        "        autosize=False,\n",
        "        width=900,\n",
        "        height=500,\n",
        "        title={\n",
        "        'text': label,\n",
        "#         'y':0.9,\n",
        "        'x':0.5,\n",
        "        'xanchor': 'center',\n",
        "        'yanchor': 'top'},\n",
        "        titlefont={\n",
        "            \"size\": 25\n",
        "        },\n",
        "        yaxis=dict(\n",
        "            title_text=\"Value\",\n",
        "            titlefont=dict(size=12),\n",
        "        ),\n",
        "        xaxis=dict(\n",
        "            title_text=\"Time\",\n",
        "            titlefont=dict(size=12),\n",
        "        )\n",
        "    )\n",
        "    return fig\n",
        "\n",
        "\n",
        "def generate_timeseries(signal, noise=None):\n",
        "    time_sampler = ts.TimeSampler(stop_time=20)\n",
        "    regular_time_samples = time_sampler.sample_regular_time(num_points=100)\n",
        "    timeseries = ts.TimeSeries(signal_generator=signal, noise_generator=noise)\n",
        "    samples, signals, errors = timeseries.sample(regular_time_samples)\n",
        "    return samples, regular_time_samples, signals, errors"
      ],
      "metadata": {
        "id": "SB8lYThzm2v_"
      },
      "execution_count": 2,
      "outputs": []
    },
    {
      "cell_type": "code",
      "source": [
        "import numpy as np\n",
        "import matplotlib.pyplot as plt\n",
        "time = np.arange(200)\n",
        "\n",
        "values = np.random.randn(200) * 100\n",
        "plot_time_series(time, values, \"White Noise\")"
      ],
      "metadata": {
        "colab": {
          "base_uri": "https://localhost:8080/",
          "height": 517
        },
        "id": "21N0LJHplyVe",
        "outputId": "6da13d4d-45ca-47fe-8746-365075c2c022"
      },
      "execution_count": 14,
      "outputs": [
        {
          "output_type": "display_data",
          "data": {
            "text/html": [
              "<html>\n",
              "<head><meta charset=\"utf-8\" /></head>\n",
              "<body>\n",
              "    <div>            <script src=\"https://cdnjs.cloudflare.com/ajax/libs/mathjax/2.7.5/MathJax.js?config=TeX-AMS-MML_SVG\"></script><script type=\"text/javascript\">if (window.MathJax && window.MathJax.Hub && window.MathJax.Hub.Config) {window.MathJax.Hub.Config({SVG: {font: \"STIX-Web\"}});}</script>                <script type=\"text/javascript\">window.PlotlyConfig = {MathJaxConfig: 'local'};</script>\n",
              "        <script charset=\"utf-8\" src=\"https://cdn.plot.ly/plotly-2.35.2.min.js\"></script>                <div id=\"be94c086-617d-46b4-8fd1-f79913b7e9ee\" class=\"plotly-graph-div\" style=\"height:500px; width:900px;\"></div>            <script type=\"text/javascript\">                                    window.PLOTLYENV=window.PLOTLYENV || {};                                    if (document.getElementById(\"be94c086-617d-46b4-8fd1-f79913b7e9ee\")) {                    Plotly.newPlot(                        \"be94c086-617d-46b4-8fd1-f79913b7e9ee\",                        [{\"hovertemplate\":\"Time=%{x}\\u003cbr\\u003eValue=%{y}\\u003cextra\\u003e\\u003c\\u002fextra\\u003e\",\"legendgroup\":\"\",\"line\":{\"color\":\"#636efa\",\"dash\":\"solid\"},\"marker\":{\"symbol\":\"circle\"},\"mode\":\"lines\",\"name\":\"\",\"orientation\":\"v\",\"showlegend\":false,\"x\":[0,1,2,3,4,5,6,7,8,9,10,11,12,13,14,15,16,17,18,19,20,21,22,23,24,25,26,27,28,29,30,31,32,33,34,35,36,37,38,39,40,41,42,43,44,45,46,47,48,49,50,51,52,53,54,55,56,57,58,59,60,61,62,63,64,65,66,67,68,69,70,71,72,73,74,75,76,77,78,79,80,81,82,83,84,85,86,87,88,89,90,91,92,93,94,95,96,97,98,99,100,101,102,103,104,105,106,107,108,109,110,111,112,113,114,115,116,117,118,119,120,121,122,123,124,125,126,127,128,129,130,131,132,133,134,135,136,137,138,139,140,141,142,143,144,145,146,147,148,149,150,151,152,153,154,155,156,157,158,159,160,161,162,163,164,165,166,167,168,169,170,171,172,173,174,175,176,177,178,179,180,181,182,183,184,185,186,187,188,189,190,191,192,193,194,195,196,197,198,199],\"xaxis\":\"x\",\"y\":[170.84046362377163,-52.167016150710765,41.16273805025214,188.6971262650489,111.86014862363855,-12.388247386554548,-9.20998291151229,14.610106037086293,225.191789217807,0.47475153291587774,65.52203488875831,-47.901843907303935,-73.19051558331677,181.13908680890611,-46.19216119207601,22.973298952538546,72.5095100007565,-13.931413301691043,202.59866544820818,-34.23573254755361,292.5966296868482,-72.32130016470654,-24.14048996875805,124.00940192238022,-125.60084699870795,28.45255875992267,-55.942934581302275,95.14054465743097,-30.102896089425986,32.49617877788075,-35.56205354943289,-15.124684827728588,-5.643562897210851,98.43611024274537,-122.46474068906974,-67.62675367494076,-168.55177926846352,79.1368655523796,127.38982609780794,-8.099123273427871,77.02485278218212,-234.36487360933165,5.880434392849525,-1.9251389235816196,107.07381757616388,-19.7512007113231,76.76000434372786,-136.77148549211952,-160.82065300114894,-86.96909823424383,-86.42670974585562,-150.19676755106443,-78.42352401536033,-95.25239479677911,-67.36058815497428,-175.26200587596793,56.16870482031153,39.608053075342866,20.053809726536358,75.25476538914458,146.91044322607857,-38.57173255261701,11.02829293046876,-126.65042445613027,171.13054974642424,-23.93994485423606,-180.6260647864838,-123.72410459725253,-288.6962654036612,-71.13150953648312,3.8124308120993615,136.6751719783595,-156.09900365640888,-132.97630968234975,-212.92088346233027,-193.8939284521286,76.04035117493383,-163.38396630261937,68.64755923246447,-53.459111432337934,-57.43719154962103,101.07000931697148,-24.655301777584846,-60.24152368458996,-79.91350561759795,83.54138244962701,95.01308611258943,-99.98979550339261,-7.461439246715765,35.25484373546596,-95.62809323224566,-161.42419223093503,30.43003041240423,-109.5718143531322,131.080376845866,126.06527923020666,45.79925720152349,141.45302629085074,-106.38832719772327,-131.47248785499318,117.75494752675375,99.23056321526957,-176.13308380720133,-68.2010388701046,-123.48902746486404,-24.75807398344691,49.09629225714862,-49.26846343691543,-42.960879508403124,78.91274206578032,8.510025769505908,120.69398693166306,-122.20833250374532,-50.88030989270784,-113.7139700989756,50.91657895449008,48.87488033232924,-155.18076639501908,-38.32737127862952,219.18611186801346,-67.10221015820903,78.79541483858895,-25.83285124075581,-185.9176718493652,-60.207822908230504,-41.63170491874142,67.94039110942103,187.092487820416,-46.38102634157713,-65.07020709449077,-7.748298815493837,-11.624466054520553,-158.36630248285624,10.344217583110925,-11.469942927560385,-188.20603000143865,43.253927302732954,104.46622982178016,-83.29594030177876,-27.611041630659184,-70.91010174646327,54.0132109234715,-15.407103078625356,-112.66161891806887,-87.82061593891753,-4.203959578145098,57.091025099008775,35.187612244163375,-61.59988339179894,40.51619747135333,118.27093465978116,102.61345677964981,104.64474109489564,119.40043364952768,9.904172351055864,-49.57999438019698,106.2757260184747,102.9712660779206,-198.8145851517399,-107.64471676538798,-54.65796494967229,-26.097339808119617,364.66100971908025,-58.065524203218125,4.808718893583001,22.817283788932734,45.191298179598846,-76.81339469948988,35.48637884634527,-54.869920135391524,-130.44172343865532,-168.99286308427727,62.389235802180885,-33.5507844470634,-108.17538821734041,-157.419080005997,120.46618371080437,62.8735175229596,54.77245189248744,-99.61435232637615,52.00045507433515,122.818863626948,6.151014086742909,-87.41892051672974,96.93089486346265,1.7875132747533842,-84.56196125353814,-103.98508780020718,-38.792476114880934,-13.281257877594635,87.06222242844885,-27.837193388631608,176.26415837849834,123.41857766225594,47.914414324646145,45.6132435497789,11.927793544920716,16.53349993514394,-78.37781056554502,184.2621421545679],\"yaxis\":\"y\",\"type\":\"scatter\"}],                        {\"template\":{\"data\":{\"histogram2dcontour\":[{\"type\":\"histogram2dcontour\",\"colorbar\":{\"outlinewidth\":0,\"ticks\":\"\"},\"colorscale\":[[0.0,\"#0d0887\"],[0.1111111111111111,\"#46039f\"],[0.2222222222222222,\"#7201a8\"],[0.3333333333333333,\"#9c179e\"],[0.4444444444444444,\"#bd3786\"],[0.5555555555555556,\"#d8576b\"],[0.6666666666666666,\"#ed7953\"],[0.7777777777777778,\"#fb9f3a\"],[0.8888888888888888,\"#fdca26\"],[1.0,\"#f0f921\"]]}],\"choropleth\":[{\"type\":\"choropleth\",\"colorbar\":{\"outlinewidth\":0,\"ticks\":\"\"}}],\"histogram2d\":[{\"type\":\"histogram2d\",\"colorbar\":{\"outlinewidth\":0,\"ticks\":\"\"},\"colorscale\":[[0.0,\"#0d0887\"],[0.1111111111111111,\"#46039f\"],[0.2222222222222222,\"#7201a8\"],[0.3333333333333333,\"#9c179e\"],[0.4444444444444444,\"#bd3786\"],[0.5555555555555556,\"#d8576b\"],[0.6666666666666666,\"#ed7953\"],[0.7777777777777778,\"#fb9f3a\"],[0.8888888888888888,\"#fdca26\"],[1.0,\"#f0f921\"]]}],\"heatmap\":[{\"type\":\"heatmap\",\"colorbar\":{\"outlinewidth\":0,\"ticks\":\"\"},\"colorscale\":[[0.0,\"#0d0887\"],[0.1111111111111111,\"#46039f\"],[0.2222222222222222,\"#7201a8\"],[0.3333333333333333,\"#9c179e\"],[0.4444444444444444,\"#bd3786\"],[0.5555555555555556,\"#d8576b\"],[0.6666666666666666,\"#ed7953\"],[0.7777777777777778,\"#fb9f3a\"],[0.8888888888888888,\"#fdca26\"],[1.0,\"#f0f921\"]]}],\"heatmapgl\":[{\"type\":\"heatmapgl\",\"colorbar\":{\"outlinewidth\":0,\"ticks\":\"\"},\"colorscale\":[[0.0,\"#0d0887\"],[0.1111111111111111,\"#46039f\"],[0.2222222222222222,\"#7201a8\"],[0.3333333333333333,\"#9c179e\"],[0.4444444444444444,\"#bd3786\"],[0.5555555555555556,\"#d8576b\"],[0.6666666666666666,\"#ed7953\"],[0.7777777777777778,\"#fb9f3a\"],[0.8888888888888888,\"#fdca26\"],[1.0,\"#f0f921\"]]}],\"contourcarpet\":[{\"type\":\"contourcarpet\",\"colorbar\":{\"outlinewidth\":0,\"ticks\":\"\"}}],\"contour\":[{\"type\":\"contour\",\"colorbar\":{\"outlinewidth\":0,\"ticks\":\"\"},\"colorscale\":[[0.0,\"#0d0887\"],[0.1111111111111111,\"#46039f\"],[0.2222222222222222,\"#7201a8\"],[0.3333333333333333,\"#9c179e\"],[0.4444444444444444,\"#bd3786\"],[0.5555555555555556,\"#d8576b\"],[0.6666666666666666,\"#ed7953\"],[0.7777777777777778,\"#fb9f3a\"],[0.8888888888888888,\"#fdca26\"],[1.0,\"#f0f921\"]]}],\"surface\":[{\"type\":\"surface\",\"colorbar\":{\"outlinewidth\":0,\"ticks\":\"\"},\"colorscale\":[[0.0,\"#0d0887\"],[0.1111111111111111,\"#46039f\"],[0.2222222222222222,\"#7201a8\"],[0.3333333333333333,\"#9c179e\"],[0.4444444444444444,\"#bd3786\"],[0.5555555555555556,\"#d8576b\"],[0.6666666666666666,\"#ed7953\"],[0.7777777777777778,\"#fb9f3a\"],[0.8888888888888888,\"#fdca26\"],[1.0,\"#f0f921\"]]}],\"mesh3d\":[{\"type\":\"mesh3d\",\"colorbar\":{\"outlinewidth\":0,\"ticks\":\"\"}}],\"scatter\":[{\"fillpattern\":{\"fillmode\":\"overlay\",\"size\":10,\"solidity\":0.2},\"type\":\"scatter\"}],\"parcoords\":[{\"type\":\"parcoords\",\"line\":{\"colorbar\":{\"outlinewidth\":0,\"ticks\":\"\"}}}],\"scatterpolargl\":[{\"type\":\"scatterpolargl\",\"marker\":{\"colorbar\":{\"outlinewidth\":0,\"ticks\":\"\"}}}],\"bar\":[{\"error_x\":{\"color\":\"#2a3f5f\"},\"error_y\":{\"color\":\"#2a3f5f\"},\"marker\":{\"line\":{\"color\":\"white\",\"width\":0.5},\"pattern\":{\"fillmode\":\"overlay\",\"size\":10,\"solidity\":0.2}},\"type\":\"bar\"}],\"scattergeo\":[{\"type\":\"scattergeo\",\"marker\":{\"colorbar\":{\"outlinewidth\":0,\"ticks\":\"\"}}}],\"scatterpolar\":[{\"type\":\"scatterpolar\",\"marker\":{\"colorbar\":{\"outlinewidth\":0,\"ticks\":\"\"}}}],\"histogram\":[{\"marker\":{\"pattern\":{\"fillmode\":\"overlay\",\"size\":10,\"solidity\":0.2}},\"type\":\"histogram\"}],\"scattergl\":[{\"type\":\"scattergl\",\"marker\":{\"colorbar\":{\"outlinewidth\":0,\"ticks\":\"\"}}}],\"scatter3d\":[{\"type\":\"scatter3d\",\"line\":{\"colorbar\":{\"outlinewidth\":0,\"ticks\":\"\"}},\"marker\":{\"colorbar\":{\"outlinewidth\":0,\"ticks\":\"\"}}}],\"scattermapbox\":[{\"type\":\"scattermapbox\",\"marker\":{\"colorbar\":{\"outlinewidth\":0,\"ticks\":\"\"}}}],\"scatterternary\":[{\"type\":\"scatterternary\",\"marker\":{\"colorbar\":{\"outlinewidth\":0,\"ticks\":\"\"}}}],\"scattercarpet\":[{\"type\":\"scattercarpet\",\"marker\":{\"colorbar\":{\"outlinewidth\":0,\"ticks\":\"\"}}}],\"carpet\":[{\"aaxis\":{\"endlinecolor\":\"#2a3f5f\",\"gridcolor\":\"#C8D4E3\",\"linecolor\":\"#C8D4E3\",\"minorgridcolor\":\"#C8D4E3\",\"startlinecolor\":\"#2a3f5f\"},\"baxis\":{\"endlinecolor\":\"#2a3f5f\",\"gridcolor\":\"#C8D4E3\",\"linecolor\":\"#C8D4E3\",\"minorgridcolor\":\"#C8D4E3\",\"startlinecolor\":\"#2a3f5f\"},\"type\":\"carpet\"}],\"table\":[{\"cells\":{\"fill\":{\"color\":\"#EBF0F8\"},\"line\":{\"color\":\"white\"}},\"header\":{\"fill\":{\"color\":\"#C8D4E3\"},\"line\":{\"color\":\"white\"}},\"type\":\"table\"}],\"barpolar\":[{\"marker\":{\"line\":{\"color\":\"white\",\"width\":0.5},\"pattern\":{\"fillmode\":\"overlay\",\"size\":10,\"solidity\":0.2}},\"type\":\"barpolar\"}],\"pie\":[{\"automargin\":true,\"type\":\"pie\"}]},\"layout\":{\"autotypenumbers\":\"strict\",\"colorway\":[\"#636efa\",\"#EF553B\",\"#00cc96\",\"#ab63fa\",\"#FFA15A\",\"#19d3f3\",\"#FF6692\",\"#B6E880\",\"#FF97FF\",\"#FECB52\"],\"font\":{\"color\":\"#2a3f5f\"},\"hovermode\":\"closest\",\"hoverlabel\":{\"align\":\"left\"},\"paper_bgcolor\":\"white\",\"plot_bgcolor\":\"white\",\"polar\":{\"bgcolor\":\"white\",\"angularaxis\":{\"gridcolor\":\"#EBF0F8\",\"linecolor\":\"#EBF0F8\",\"ticks\":\"\"},\"radialaxis\":{\"gridcolor\":\"#EBF0F8\",\"linecolor\":\"#EBF0F8\",\"ticks\":\"\"}},\"ternary\":{\"bgcolor\":\"white\",\"aaxis\":{\"gridcolor\":\"#DFE8F3\",\"linecolor\":\"#A2B1C6\",\"ticks\":\"\"},\"baxis\":{\"gridcolor\":\"#DFE8F3\",\"linecolor\":\"#A2B1C6\",\"ticks\":\"\"},\"caxis\":{\"gridcolor\":\"#DFE8F3\",\"linecolor\":\"#A2B1C6\",\"ticks\":\"\"}},\"coloraxis\":{\"colorbar\":{\"outlinewidth\":0,\"ticks\":\"\"}},\"colorscale\":{\"sequential\":[[0.0,\"#0d0887\"],[0.1111111111111111,\"#46039f\"],[0.2222222222222222,\"#7201a8\"],[0.3333333333333333,\"#9c179e\"],[0.4444444444444444,\"#bd3786\"],[0.5555555555555556,\"#d8576b\"],[0.6666666666666666,\"#ed7953\"],[0.7777777777777778,\"#fb9f3a\"],[0.8888888888888888,\"#fdca26\"],[1.0,\"#f0f921\"]],\"sequentialminus\":[[0.0,\"#0d0887\"],[0.1111111111111111,\"#46039f\"],[0.2222222222222222,\"#7201a8\"],[0.3333333333333333,\"#9c179e\"],[0.4444444444444444,\"#bd3786\"],[0.5555555555555556,\"#d8576b\"],[0.6666666666666666,\"#ed7953\"],[0.7777777777777778,\"#fb9f3a\"],[0.8888888888888888,\"#fdca26\"],[1.0,\"#f0f921\"]],\"diverging\":[[0,\"#8e0152\"],[0.1,\"#c51b7d\"],[0.2,\"#de77ae\"],[0.3,\"#f1b6da\"],[0.4,\"#fde0ef\"],[0.5,\"#f7f7f7\"],[0.6,\"#e6f5d0\"],[0.7,\"#b8e186\"],[0.8,\"#7fbc41\"],[0.9,\"#4d9221\"],[1,\"#276419\"]]},\"xaxis\":{\"gridcolor\":\"#EBF0F8\",\"linecolor\":\"#EBF0F8\",\"ticks\":\"\",\"title\":{\"standoff\":15},\"zerolinecolor\":\"#EBF0F8\",\"automargin\":true,\"zerolinewidth\":2},\"yaxis\":{\"gridcolor\":\"#EBF0F8\",\"linecolor\":\"#EBF0F8\",\"ticks\":\"\",\"title\":{\"standoff\":15},\"zerolinecolor\":\"#EBF0F8\",\"automargin\":true,\"zerolinewidth\":2},\"scene\":{\"xaxis\":{\"backgroundcolor\":\"white\",\"gridcolor\":\"#DFE8F3\",\"linecolor\":\"#EBF0F8\",\"showbackground\":true,\"ticks\":\"\",\"zerolinecolor\":\"#EBF0F8\",\"gridwidth\":2},\"yaxis\":{\"backgroundcolor\":\"white\",\"gridcolor\":\"#DFE8F3\",\"linecolor\":\"#EBF0F8\",\"showbackground\":true,\"ticks\":\"\",\"zerolinecolor\":\"#EBF0F8\",\"gridwidth\":2},\"zaxis\":{\"backgroundcolor\":\"white\",\"gridcolor\":\"#DFE8F3\",\"linecolor\":\"#EBF0F8\",\"showbackground\":true,\"ticks\":\"\",\"zerolinecolor\":\"#EBF0F8\",\"gridwidth\":2}},\"shapedefaults\":{\"line\":{\"color\":\"#2a3f5f\"}},\"annotationdefaults\":{\"arrowcolor\":\"#2a3f5f\",\"arrowhead\":0,\"arrowwidth\":1},\"geo\":{\"bgcolor\":\"white\",\"landcolor\":\"white\",\"subunitcolor\":\"#C8D4E3\",\"showland\":true,\"showlakes\":true,\"lakecolor\":\"white\"},\"title\":{\"x\":0.05},\"mapbox\":{\"style\":\"light\"}}},\"xaxis\":{\"anchor\":\"y\",\"domain\":[0.0,1.0],\"title\":{\"text\":\"Time\",\"font\":{\"size\":12}}},\"yaxis\":{\"anchor\":\"x\",\"domain\":[0.0,1.0],\"title\":{\"text\":\"Value\",\"font\":{\"size\":12}}},\"legend\":{\"tracegroupgap\":0},\"margin\":{\"t\":60},\"title\":{\"font\":{\"size\":25},\"text\":\"White Noise\",\"x\":0.5,\"xanchor\":\"center\",\"yanchor\":\"top\"},\"autosize\":false,\"width\":900,\"height\":500},                        {\"responsive\": true}                    ).then(function(){\n",
              "                            \n",
              "var gd = document.getElementById('be94c086-617d-46b4-8fd1-f79913b7e9ee');\n",
              "var x = new MutationObserver(function (mutations, observer) {{\n",
              "        var display = window.getComputedStyle(gd).display;\n",
              "        if (!display || display === 'none') {{\n",
              "            console.log([gd, 'removed!']);\n",
              "            Plotly.purge(gd);\n",
              "            observer.disconnect();\n",
              "        }}\n",
              "}});\n",
              "\n",
              "// Listen for the removal of the full notebook cells\n",
              "var notebookContainer = gd.closest('#notebook-container');\n",
              "if (notebookContainer) {{\n",
              "    x.observe(notebookContainer, {childList: true});\n",
              "}}\n",
              "\n",
              "// Listen for the clearing of the current output cell\n",
              "var outputEl = gd.closest('.output');\n",
              "if (outputEl) {{\n",
              "    x.observe(outputEl, {childList: true});\n",
              "}}\n",
              "\n",
              "                        })                };                            </script>        </div>\n",
              "</body>\n",
              "</html>"
            ]
          },
          "metadata": {}
        }
      ]
    },
    {
      "cell_type": "markdown",
      "source": [
        "Red noise, on the other hand, has zero mean and constant variance but is serially correlated in time. This serial correlation or redness is parameterized by a correlation coefficient r, such that:"
      ],
      "metadata": {
        "id": "BoY1fEVSmWLB"
      }
    },
    {
      "cell_type": "code",
      "source": [
        "r = 0.4\n",
        "\n",
        "# Generate the time axis\n",
        "time = np.arange(200)\n",
        "# Generate white noise\n",
        "white_noise = np.random.randn(200)*100\n",
        "# Create Red Noise by introducing correlation between subsequent values in the white noise\n",
        "values = np.zeros(200)\n",
        "for i, v in enumerate(white_noise):\n",
        "    if i==0:\n",
        "        values[i] = v\n",
        "    else:\n",
        "        values[i] = r*values[i-1]+ np.sqrt((1-np.power(r,2))) *v\n",
        "plot_time_series(time, values, \"Red Noise\")"
      ],
      "metadata": {
        "colab": {
          "base_uri": "https://localhost:8080/",
          "height": 517
        },
        "id": "8CNwG_L6mLJU",
        "outputId": "3dee2773-cc97-4cc9-871f-8d4563e1c38e"
      },
      "execution_count": 13,
      "outputs": [
        {
          "output_type": "display_data",
          "data": {
            "text/html": [
              "<html>\n",
              "<head><meta charset=\"utf-8\" /></head>\n",
              "<body>\n",
              "    <div>            <script src=\"https://cdnjs.cloudflare.com/ajax/libs/mathjax/2.7.5/MathJax.js?config=TeX-AMS-MML_SVG\"></script><script type=\"text/javascript\">if (window.MathJax && window.MathJax.Hub && window.MathJax.Hub.Config) {window.MathJax.Hub.Config({SVG: {font: \"STIX-Web\"}});}</script>                <script type=\"text/javascript\">window.PlotlyConfig = {MathJaxConfig: 'local'};</script>\n",
              "        <script charset=\"utf-8\" src=\"https://cdn.plot.ly/plotly-2.35.2.min.js\"></script>                <div id=\"6a227856-842c-4987-9d23-4010a273a674\" class=\"plotly-graph-div\" style=\"height:500px; width:900px;\"></div>            <script type=\"text/javascript\">                                    window.PLOTLYENV=window.PLOTLYENV || {};                                    if (document.getElementById(\"6a227856-842c-4987-9d23-4010a273a674\")) {                    Plotly.newPlot(                        \"6a227856-842c-4987-9d23-4010a273a674\",                        [{\"hovertemplate\":\"Time=%{x}\\u003cbr\\u003eValue=%{y}\\u003cextra\\u003e\\u003c\\u002fextra\\u003e\",\"legendgroup\":\"\",\"line\":{\"color\":\"#636efa\",\"dash\":\"solid\"},\"marker\":{\"symbol\":\"circle\"},\"mode\":\"lines\",\"name\":\"\",\"orientation\":\"v\",\"showlegend\":false,\"x\":[0,1,2,3,4,5,6,7,8,9,10,11,12,13,14,15,16,17,18,19,20,21,22,23,24,25,26,27,28,29,30,31,32,33,34,35,36,37,38,39,40,41,42,43,44,45,46,47,48,49,50,51,52,53,54,55,56,57,58,59,60,61,62,63,64,65,66,67,68,69,70,71,72,73,74,75,76,77,78,79,80,81,82,83,84,85,86,87,88,89,90,91,92,93,94,95,96,97,98,99,100,101,102,103,104,105,106,107,108,109,110,111,112,113,114,115,116,117,118,119,120,121,122,123,124,125,126,127,128,129,130,131,132,133,134,135,136,137,138,139,140,141,142,143,144,145,146,147,148,149,150,151,152,153,154,155,156,157,158,159,160,161,162,163,164,165,166,167,168,169,170,171,172,173,174,175,176,177,178,179,180,181,182,183,184,185,186,187,188,189,190,191,192,193,194,195,196,197,198,199],\"xaxis\":\"x\",\"y\":[-42.970653393143,72.38279997884683,82.58914853966081,104.96839816793084,175.3918738667026,99.66277452818426,-5.649980416938739,-21.640497514878188,-9.688473317143298,-16.83337273587872,19.357955970320386,-76.25835835055378,51.96204655450634,-105.58402252503976,-85.02553370726518,-1.8686910002835972,-44.30885651515387,18.96558695276031,31.9360059724049,160.36933559814764,196.27396246776624,-48.75411519117246,-58.023096815236926,-82.4847613721288,34.57076221096735,13.83211818141007,92.2346338769683,175.49279108053761,56.39169049074577,-96.51109093740979,-85.42996274479138,130.96507892306272,113.32517805408213,-28.331623267245526,-30.829820702090082,63.196101667930186,81.91222545945263,49.466934916533106,-215.45044708035925,-108.55850156740931,-100.5974364426396,-46.34210334078536,-100.07071572802757,-134.14731390910737,-116.77933993551314,-34.30429956488095,-102.05693792513978,55.67330009282862,-111.6371030836722,-135.67739220098076,1.4725553036942571,-51.00596484311614,-77.88452956571027,-74.72407757738515,-117.51678782082328,29.196665521202306,48.02738916152927,255.32485200569926,-12.52231113376385,-56.29752196970138,-37.3986509372512,45.8418351808937,74.95186396796913,44.32304781701474,134.3337384193517,43.07176662066866,66.92414012774466,134.2991859226239,82.1708791226891,-15.072523069587938,14.378746713744402,34.8570430385097,225.85407552317693,-27.837243109212622,33.83422661824429,-16.488589567285302,-207.36012727177794,-42.09695374916644,-106.99126480146151,-89.07543476926563,15.904322972968131,11.070075563799364,-69.71697203176831,0.36227889042495676,72.83092004434874,-43.867613481602376,6.023192132396055,-65.15187189492241,212.37786317539917,144.54601086743241,-21.5198379255652,-25.359838214626514,-67.69271976963043,-18.38890020815228,4.820079115587513,-82.58605136409568,-149.25438679983498,40.22118332602107,-153.00490010636574,-129.8293229539216,-56.428991792983105,-133.9658930891927,18.942177606059992,-138.63921026079532,-141.8804175944189,-209.2553207313111,-146.36173208255036,-113.42732116160838,-21.4182312811798,101.73570358255004,190.42028174153836,-86.34541769359437,18.351764394146414,-132.07909034232338,-98.09784382202267,-228.72995149497086,-52.433135035153235,53.72866522724941,73.38998873035234,-47.03061379149,27.95264898046701,-80.15768087536884,-138.48923030118056,-63.06841822225785,-88.00268911183454,-143.674916398631,-6.613688221270195,-148.2979559716731,30.004668258384328,71.62089679411572,280.00764286474333,195.88590153783298,24.53204939003374,-48.20590535980652,75.03960610488588,34.40386972091764,-25.276344474652753,-19.418452765662913,72.69019487713943,78.58549082467269,-149.11015820743367,-117.47409080876969,54.64984738165899,-74.58840422571947,-196.59984286414627,-65.10137872967975,-154.67731141545048,-83.30646263787013,-174.50144491897498,-31.27127380737185,174.6391315459586,36.14065299967206,-79.70525362610033,-55.89188152651684,-90.55025161439953,69.02343638934373,-52.628009418269556,-85.34356263785179,-66.34209058996008,-61.671651874951394,-8.485364380622524,-122.68150956667577,-124.17102200617589,-23.030704097579992,-300.39117074266966,-124.91880970322606,-158.9174846280772,-57.65043447783505,-85.94135246860674,74.6880931717805,-7.757329341503272,105.62081831524681,185.07568842500868,63.25547463791817,-134.66798037413025,-89.95791605246339,84.20008968243539,264.50291898583356,138.6346232046096,-115.5099240743821,21.362593261208893,22.774413046527577,-31.44621062531784,69.36723130253186,-28.98159886721175,40.18895508269891,163.13218151279065,35.91450908671138,-185.80036988257973,88.64222281313863,-51.1652199211324,76.10098109007876,83.36039138225719,62.610942898515056,119.63489894694496,95.09302438031509,189.88876876198742,211.45558123295422,109.4626047679389,135.00001032612187],\"yaxis\":\"y\",\"type\":\"scatter\"}],                        {\"template\":{\"data\":{\"histogram2dcontour\":[{\"type\":\"histogram2dcontour\",\"colorbar\":{\"outlinewidth\":0,\"ticks\":\"\"},\"colorscale\":[[0.0,\"#0d0887\"],[0.1111111111111111,\"#46039f\"],[0.2222222222222222,\"#7201a8\"],[0.3333333333333333,\"#9c179e\"],[0.4444444444444444,\"#bd3786\"],[0.5555555555555556,\"#d8576b\"],[0.6666666666666666,\"#ed7953\"],[0.7777777777777778,\"#fb9f3a\"],[0.8888888888888888,\"#fdca26\"],[1.0,\"#f0f921\"]]}],\"choropleth\":[{\"type\":\"choropleth\",\"colorbar\":{\"outlinewidth\":0,\"ticks\":\"\"}}],\"histogram2d\":[{\"type\":\"histogram2d\",\"colorbar\":{\"outlinewidth\":0,\"ticks\":\"\"},\"colorscale\":[[0.0,\"#0d0887\"],[0.1111111111111111,\"#46039f\"],[0.2222222222222222,\"#7201a8\"],[0.3333333333333333,\"#9c179e\"],[0.4444444444444444,\"#bd3786\"],[0.5555555555555556,\"#d8576b\"],[0.6666666666666666,\"#ed7953\"],[0.7777777777777778,\"#fb9f3a\"],[0.8888888888888888,\"#fdca26\"],[1.0,\"#f0f921\"]]}],\"heatmap\":[{\"type\":\"heatmap\",\"colorbar\":{\"outlinewidth\":0,\"ticks\":\"\"},\"colorscale\":[[0.0,\"#0d0887\"],[0.1111111111111111,\"#46039f\"],[0.2222222222222222,\"#7201a8\"],[0.3333333333333333,\"#9c179e\"],[0.4444444444444444,\"#bd3786\"],[0.5555555555555556,\"#d8576b\"],[0.6666666666666666,\"#ed7953\"],[0.7777777777777778,\"#fb9f3a\"],[0.8888888888888888,\"#fdca26\"],[1.0,\"#f0f921\"]]}],\"heatmapgl\":[{\"type\":\"heatmapgl\",\"colorbar\":{\"outlinewidth\":0,\"ticks\":\"\"},\"colorscale\":[[0.0,\"#0d0887\"],[0.1111111111111111,\"#46039f\"],[0.2222222222222222,\"#7201a8\"],[0.3333333333333333,\"#9c179e\"],[0.4444444444444444,\"#bd3786\"],[0.5555555555555556,\"#d8576b\"],[0.6666666666666666,\"#ed7953\"],[0.7777777777777778,\"#fb9f3a\"],[0.8888888888888888,\"#fdca26\"],[1.0,\"#f0f921\"]]}],\"contourcarpet\":[{\"type\":\"contourcarpet\",\"colorbar\":{\"outlinewidth\":0,\"ticks\":\"\"}}],\"contour\":[{\"type\":\"contour\",\"colorbar\":{\"outlinewidth\":0,\"ticks\":\"\"},\"colorscale\":[[0.0,\"#0d0887\"],[0.1111111111111111,\"#46039f\"],[0.2222222222222222,\"#7201a8\"],[0.3333333333333333,\"#9c179e\"],[0.4444444444444444,\"#bd3786\"],[0.5555555555555556,\"#d8576b\"],[0.6666666666666666,\"#ed7953\"],[0.7777777777777778,\"#fb9f3a\"],[0.8888888888888888,\"#fdca26\"],[1.0,\"#f0f921\"]]}],\"surface\":[{\"type\":\"surface\",\"colorbar\":{\"outlinewidth\":0,\"ticks\":\"\"},\"colorscale\":[[0.0,\"#0d0887\"],[0.1111111111111111,\"#46039f\"],[0.2222222222222222,\"#7201a8\"],[0.3333333333333333,\"#9c179e\"],[0.4444444444444444,\"#bd3786\"],[0.5555555555555556,\"#d8576b\"],[0.6666666666666666,\"#ed7953\"],[0.7777777777777778,\"#fb9f3a\"],[0.8888888888888888,\"#fdca26\"],[1.0,\"#f0f921\"]]}],\"mesh3d\":[{\"type\":\"mesh3d\",\"colorbar\":{\"outlinewidth\":0,\"ticks\":\"\"}}],\"scatter\":[{\"fillpattern\":{\"fillmode\":\"overlay\",\"size\":10,\"solidity\":0.2},\"type\":\"scatter\"}],\"parcoords\":[{\"type\":\"parcoords\",\"line\":{\"colorbar\":{\"outlinewidth\":0,\"ticks\":\"\"}}}],\"scatterpolargl\":[{\"type\":\"scatterpolargl\",\"marker\":{\"colorbar\":{\"outlinewidth\":0,\"ticks\":\"\"}}}],\"bar\":[{\"error_x\":{\"color\":\"#2a3f5f\"},\"error_y\":{\"color\":\"#2a3f5f\"},\"marker\":{\"line\":{\"color\":\"white\",\"width\":0.5},\"pattern\":{\"fillmode\":\"overlay\",\"size\":10,\"solidity\":0.2}},\"type\":\"bar\"}],\"scattergeo\":[{\"type\":\"scattergeo\",\"marker\":{\"colorbar\":{\"outlinewidth\":0,\"ticks\":\"\"}}}],\"scatterpolar\":[{\"type\":\"scatterpolar\",\"marker\":{\"colorbar\":{\"outlinewidth\":0,\"ticks\":\"\"}}}],\"histogram\":[{\"marker\":{\"pattern\":{\"fillmode\":\"overlay\",\"size\":10,\"solidity\":0.2}},\"type\":\"histogram\"}],\"scattergl\":[{\"type\":\"scattergl\",\"marker\":{\"colorbar\":{\"outlinewidth\":0,\"ticks\":\"\"}}}],\"scatter3d\":[{\"type\":\"scatter3d\",\"line\":{\"colorbar\":{\"outlinewidth\":0,\"ticks\":\"\"}},\"marker\":{\"colorbar\":{\"outlinewidth\":0,\"ticks\":\"\"}}}],\"scattermapbox\":[{\"type\":\"scattermapbox\",\"marker\":{\"colorbar\":{\"outlinewidth\":0,\"ticks\":\"\"}}}],\"scatterternary\":[{\"type\":\"scatterternary\",\"marker\":{\"colorbar\":{\"outlinewidth\":0,\"ticks\":\"\"}}}],\"scattercarpet\":[{\"type\":\"scattercarpet\",\"marker\":{\"colorbar\":{\"outlinewidth\":0,\"ticks\":\"\"}}}],\"carpet\":[{\"aaxis\":{\"endlinecolor\":\"#2a3f5f\",\"gridcolor\":\"#C8D4E3\",\"linecolor\":\"#C8D4E3\",\"minorgridcolor\":\"#C8D4E3\",\"startlinecolor\":\"#2a3f5f\"},\"baxis\":{\"endlinecolor\":\"#2a3f5f\",\"gridcolor\":\"#C8D4E3\",\"linecolor\":\"#C8D4E3\",\"minorgridcolor\":\"#C8D4E3\",\"startlinecolor\":\"#2a3f5f\"},\"type\":\"carpet\"}],\"table\":[{\"cells\":{\"fill\":{\"color\":\"#EBF0F8\"},\"line\":{\"color\":\"white\"}},\"header\":{\"fill\":{\"color\":\"#C8D4E3\"},\"line\":{\"color\":\"white\"}},\"type\":\"table\"}],\"barpolar\":[{\"marker\":{\"line\":{\"color\":\"white\",\"width\":0.5},\"pattern\":{\"fillmode\":\"overlay\",\"size\":10,\"solidity\":0.2}},\"type\":\"barpolar\"}],\"pie\":[{\"automargin\":true,\"type\":\"pie\"}]},\"layout\":{\"autotypenumbers\":\"strict\",\"colorway\":[\"#636efa\",\"#EF553B\",\"#00cc96\",\"#ab63fa\",\"#FFA15A\",\"#19d3f3\",\"#FF6692\",\"#B6E880\",\"#FF97FF\",\"#FECB52\"],\"font\":{\"color\":\"#2a3f5f\"},\"hovermode\":\"closest\",\"hoverlabel\":{\"align\":\"left\"},\"paper_bgcolor\":\"white\",\"plot_bgcolor\":\"white\",\"polar\":{\"bgcolor\":\"white\",\"angularaxis\":{\"gridcolor\":\"#EBF0F8\",\"linecolor\":\"#EBF0F8\",\"ticks\":\"\"},\"radialaxis\":{\"gridcolor\":\"#EBF0F8\",\"linecolor\":\"#EBF0F8\",\"ticks\":\"\"}},\"ternary\":{\"bgcolor\":\"white\",\"aaxis\":{\"gridcolor\":\"#DFE8F3\",\"linecolor\":\"#A2B1C6\",\"ticks\":\"\"},\"baxis\":{\"gridcolor\":\"#DFE8F3\",\"linecolor\":\"#A2B1C6\",\"ticks\":\"\"},\"caxis\":{\"gridcolor\":\"#DFE8F3\",\"linecolor\":\"#A2B1C6\",\"ticks\":\"\"}},\"coloraxis\":{\"colorbar\":{\"outlinewidth\":0,\"ticks\":\"\"}},\"colorscale\":{\"sequential\":[[0.0,\"#0d0887\"],[0.1111111111111111,\"#46039f\"],[0.2222222222222222,\"#7201a8\"],[0.3333333333333333,\"#9c179e\"],[0.4444444444444444,\"#bd3786\"],[0.5555555555555556,\"#d8576b\"],[0.6666666666666666,\"#ed7953\"],[0.7777777777777778,\"#fb9f3a\"],[0.8888888888888888,\"#fdca26\"],[1.0,\"#f0f921\"]],\"sequentialminus\":[[0.0,\"#0d0887\"],[0.1111111111111111,\"#46039f\"],[0.2222222222222222,\"#7201a8\"],[0.3333333333333333,\"#9c179e\"],[0.4444444444444444,\"#bd3786\"],[0.5555555555555556,\"#d8576b\"],[0.6666666666666666,\"#ed7953\"],[0.7777777777777778,\"#fb9f3a\"],[0.8888888888888888,\"#fdca26\"],[1.0,\"#f0f921\"]],\"diverging\":[[0,\"#8e0152\"],[0.1,\"#c51b7d\"],[0.2,\"#de77ae\"],[0.3,\"#f1b6da\"],[0.4,\"#fde0ef\"],[0.5,\"#f7f7f7\"],[0.6,\"#e6f5d0\"],[0.7,\"#b8e186\"],[0.8,\"#7fbc41\"],[0.9,\"#4d9221\"],[1,\"#276419\"]]},\"xaxis\":{\"gridcolor\":\"#EBF0F8\",\"linecolor\":\"#EBF0F8\",\"ticks\":\"\",\"title\":{\"standoff\":15},\"zerolinecolor\":\"#EBF0F8\",\"automargin\":true,\"zerolinewidth\":2},\"yaxis\":{\"gridcolor\":\"#EBF0F8\",\"linecolor\":\"#EBF0F8\",\"ticks\":\"\",\"title\":{\"standoff\":15},\"zerolinecolor\":\"#EBF0F8\",\"automargin\":true,\"zerolinewidth\":2},\"scene\":{\"xaxis\":{\"backgroundcolor\":\"white\",\"gridcolor\":\"#DFE8F3\",\"linecolor\":\"#EBF0F8\",\"showbackground\":true,\"ticks\":\"\",\"zerolinecolor\":\"#EBF0F8\",\"gridwidth\":2},\"yaxis\":{\"backgroundcolor\":\"white\",\"gridcolor\":\"#DFE8F3\",\"linecolor\":\"#EBF0F8\",\"showbackground\":true,\"ticks\":\"\",\"zerolinecolor\":\"#EBF0F8\",\"gridwidth\":2},\"zaxis\":{\"backgroundcolor\":\"white\",\"gridcolor\":\"#DFE8F3\",\"linecolor\":\"#EBF0F8\",\"showbackground\":true,\"ticks\":\"\",\"zerolinecolor\":\"#EBF0F8\",\"gridwidth\":2}},\"shapedefaults\":{\"line\":{\"color\":\"#2a3f5f\"}},\"annotationdefaults\":{\"arrowcolor\":\"#2a3f5f\",\"arrowhead\":0,\"arrowwidth\":1},\"geo\":{\"bgcolor\":\"white\",\"landcolor\":\"white\",\"subunitcolor\":\"#C8D4E3\",\"showland\":true,\"showlakes\":true,\"lakecolor\":\"white\"},\"title\":{\"x\":0.05},\"mapbox\":{\"style\":\"light\"}}},\"xaxis\":{\"anchor\":\"y\",\"domain\":[0.0,1.0],\"title\":{\"text\":\"Time\",\"font\":{\"size\":12}}},\"yaxis\":{\"anchor\":\"x\",\"domain\":[0.0,1.0],\"title\":{\"text\":\"Value\",\"font\":{\"size\":12}}},\"legend\":{\"tracegroupgap\":0},\"margin\":{\"t\":60},\"title\":{\"font\":{\"size\":25},\"text\":\"Red Noise\",\"x\":0.5,\"xanchor\":\"center\",\"yanchor\":\"top\"},\"autosize\":false,\"width\":900,\"height\":500},                        {\"responsive\": true}                    ).then(function(){\n",
              "                            \n",
              "var gd = document.getElementById('6a227856-842c-4987-9d23-4010a273a674');\n",
              "var x = new MutationObserver(function (mutations, observer) {{\n",
              "        var display = window.getComputedStyle(gd).display;\n",
              "        if (!display || display === 'none') {{\n",
              "            console.log([gd, 'removed!']);\n",
              "            Plotly.purge(gd);\n",
              "            observer.disconnect();\n",
              "        }}\n",
              "}});\n",
              "\n",
              "// Listen for the removal of the full notebook cells\n",
              "var notebookContainer = gd.closest('#notebook-container');\n",
              "if (notebookContainer) {{\n",
              "    x.observe(notebookContainer, {childList: true});\n",
              "}}\n",
              "\n",
              "// Listen for the clearing of the current output cell\n",
              "var outputEl = gd.closest('.output');\n",
              "if (outputEl) {{\n",
              "    x.observe(outputEl, {childList: true});\n",
              "}}\n",
              "\n",
              "                        })                };                            </script>        </div>\n",
              "</body>\n",
              "</html>"
            ]
          },
          "metadata": {}
        }
      ]
    },
    {
      "cell_type": "markdown",
      "source": [
        "**Cyclical or seasonal signals**\n",
        "\n",
        "Among the most common signals you see in time series are seasonal or cyclical signals. Therefore, you can introduce seasonality into your generated series in a few ways."
      ],
      "metadata": {
        "id": "OhUW_Bs2n65f"
      }
    },
    {
      "cell_type": "code",
      "source": [
        "#Sinusoidal Signal with Amplitude=1.5 & Frequency=0.25\n",
        "signal_1 =ts.signals.Sinusoidal(amplitude=1.5, frequency=0.25)\n",
        "#Sinusoidal Signal with Amplitude=1 & Frequency=0. 5\n",
        "signal_2 = ts.signals.Sinusoidal(amplitude=1, frequency=0.5)\n",
        "#Generating the time series\n",
        "samples_1, regular_time_samples, signals_1, errors_1 = generate_timeseries(signal=signal_1)\n",
        "samples_2, regular_time_samples, signals_2, errors_2 = generate_timeseries(signal=signal_2)"
      ],
      "metadata": {
        "id": "v_B7cQ1wmxbb"
      },
      "execution_count": 16,
      "outputs": []
    },
    {
      "cell_type": "code",
      "source": [
        "plot_time_series(regular_time_samples,\n",
        "                 [samples_1, samples_2],\n",
        "                 \"Sinusoidal Waves\",\n",
        "                 legends=[\"Amplitude = 1.5 | Frequency = 0.25\", \"Amplitude = 1 | Frequency = 0.5\"])"
      ],
      "metadata": {
        "colab": {
          "base_uri": "https://localhost:8080/",
          "height": 517
        },
        "id": "tFozL6QdoIXx",
        "outputId": "ca1f47df-3344-4ec7-8b3d-343344854e10"
      },
      "execution_count": 18,
      "outputs": [
        {
          "output_type": "display_data",
          "data": {
            "text/html": [
              "<html>\n",
              "<head><meta charset=\"utf-8\" /></head>\n",
              "<body>\n",
              "    <div>            <script src=\"https://cdnjs.cloudflare.com/ajax/libs/mathjax/2.7.5/MathJax.js?config=TeX-AMS-MML_SVG\"></script><script type=\"text/javascript\">if (window.MathJax && window.MathJax.Hub && window.MathJax.Hub.Config) {window.MathJax.Hub.Config({SVG: {font: \"STIX-Web\"}});}</script>                <script type=\"text/javascript\">window.PlotlyConfig = {MathJaxConfig: 'local'};</script>\n",
              "        <script charset=\"utf-8\" src=\"https://cdn.plot.ly/plotly-2.35.2.min.js\"></script>                <div id=\"52a83b5e-f3be-421e-bcb8-227252f77e6e\" class=\"plotly-graph-div\" style=\"height:500px; width:900px;\"></div>            <script type=\"text/javascript\">                                    window.PLOTLYENV=window.PLOTLYENV || {};                                    if (document.getElementById(\"52a83b5e-f3be-421e-bcb8-227252f77e6e\")) {                    Plotly.newPlot(                        \"52a83b5e-f3be-421e-bcb8-227252f77e6e\",                        [{\"hovertemplate\":\"ts=Amplitude = 1.5 | Frequency = 0.25\\u003cbr\\u003eTime=%{x}\\u003cbr\\u003eValue=%{y}\\u003cextra\\u003e\\u003c\\u002fextra\\u003e\",\"legendgroup\":\"Amplitude = 1.5 | Frequency = 0.25\",\"line\":{\"color\":\"#636efa\",\"dash\":\"solid\"},\"marker\":{\"symbol\":\"circle\"},\"mode\":\"lines\",\"name\":\"Amplitude = 1.5 | Frequency = 0.25\",\"orientation\":\"v\",\"showlegend\":true,\"x\":[0.0,0.20202020202020202,0.40404040404040403,0.6060606060606061,0.8080808080808081,1.0101010101010102,1.2121212121212122,1.4141414141414141,1.6161616161616161,1.8181818181818181,2.0202020202020203,2.2222222222222223,2.4242424242424243,2.6262626262626263,2.8282828282828283,3.0303030303030303,3.2323232323232323,3.4343434343434343,3.6363636363636362,3.8383838383838382,4.040404040404041,4.242424242424242,4.444444444444445,4.646464646464646,4.848484848484849,5.05050505050505,5.252525252525253,5.454545454545454,5.656565656565657,5.858585858585858,6.0606060606060606,6.262626262626262,6.4646464646464645,6.666666666666667,6.8686868686868685,7.070707070707071,7.2727272727272725,7.474747474747475,7.6767676767676765,7.878787878787879,8.080808080808081,8.282828282828282,8.484848484848484,8.686868686868687,8.88888888888889,9.09090909090909,9.292929292929292,9.494949494949495,9.696969696969697,9.8989898989899,10.1010101010101,10.303030303030303,10.505050505050505,10.707070707070708,10.909090909090908,11.11111111111111,11.313131313131313,11.515151515151516,11.717171717171716,11.919191919191919,12.121212121212121,12.323232323232324,12.525252525252524,12.727272727272727,12.929292929292929,13.131313131313131,13.333333333333334,13.535353535353535,13.737373737373737,13.93939393939394,14.141414141414142,14.343434343434343,14.545454545454545,14.747474747474747,14.94949494949495,15.15151515151515,15.353535353535353,15.555555555555555,15.757575757575758,15.959595959595958,16.161616161616163,16.363636363636363,16.565656565656564,16.767676767676768,16.96969696969697,17.171717171717173,17.373737373737374,17.575757575757574,17.77777777777778,17.97979797979798,18.18181818181818,18.383838383838384,18.585858585858585,18.78787878787879,18.98989898989899,19.19191919191919,19.393939393939394,19.595959595959595,19.7979797979798,20.0],\"xaxis\":\"x\",\"y\":[0.0,0.4680501685477307,0.8893618935819606,1.2218639280755035,1.4323533621661109,1.4998111915108125,1.4175012280720027,1.1936427607962485,0.8505897957941563,0.4225988352621451,-0.04759190024710179,-0.513030214988503,-0.9272384793309079,-1.248854781952157,-1.445763237839913,-1.4983010087745119,-1.4012217903976603,-1.1642196964376357,-0.8109612261833974,-0.3767219807716191,0.09513587948484739,0.5574936834904902,0.9641814145298087,1.2745881449242713,1.4577173524853126,1.4952821639279135,1.3835314411568724,1.133624361531389,0.7705160873601108,0.33046579917981156,-0.14258406495627424,-0.6013958031099191,-1.0001535007744369,-1.299038105676658,-1.4682036693221678,-1.4907576966918814,-1.3644479930317785,-1.1018875629863008,-0.7292951041507035,-0.283876866540615,0.18988868036062512,0.6446923681337545,1.0351185172231663,1.3221800451713723,1.477211629518312,1.4847321628213994,1.3439906614370045,1.0690412570682948,0.6873397825911152,0.23700209396002359,-0.23700209396002175,-0.6873397825911136,-1.0690412570682934,-1.3439906614370036,-1.4847321628213983,-1.4772116295183129,-1.3221800451713746,-1.0351185172231696,-0.6446923681337585,-0.1898886803606243,0.2838768665406158,0.7292951041507042,1.1018875629862979,1.3644479930317766,1.490757696691881,1.468203669322168,1.2990381056766578,1.0001535007744402,0.6013958031099232,0.14258406495627607,-0.3304657991798098,-0.7705160873601047,-1.1336243615313844,-1.3835314411568707,-1.4952821639279132,-1.457717352485313,-1.2745881449242722,-0.9641814145298092,-0.5574936834904907,-0.09513587948485053,0.37672198077162117,0.8109612261833947,1.1642196964376312,1.40122179039766,1.4983010087745119,1.4457632378399128,1.2488547819521587,0.9272384793309136,0.5130302149885041,0.04759190024710695,-0.42259883526214015,-0.8505897957941531,-1.1936427607962465,-1.4175012280720038,-1.4998111915108125,-1.4323533621661124,-1.221863928075503,-0.8893618935819636,-0.4680501685477282,-1.83697019872103e-15],\"yaxis\":\"y\",\"type\":\"scatter\"},{\"hovertemplate\":\"ts=Amplitude = 1 | Frequency = 0.5\\u003cbr\\u003eTime=%{x}\\u003cbr\\u003eValue=%{y}\\u003cextra\\u003e\\u003c\\u002fextra\\u003e\",\"legendgroup\":\"Amplitude = 1 | Frequency = 0.5\",\"line\":{\"color\":\"#636efa\",\"dash\":\"dot\"},\"marker\":{\"symbol\":\"circle\"},\"mode\":\"lines\",\"name\":\"Amplitude = 1 | Frequency = 0.5\",\"orientation\":\"v\",\"showlegend\":true,\"x\":[0.0,0.20202020202020202,0.40404040404040403,0.6060606060606061,0.8080808080808081,1.0101010101010102,1.2121212121212122,1.4141414141414141,1.6161616161616161,1.8181818181818181,2.0202020202020203,2.2222222222222223,2.4242424242424243,2.6262626262626263,2.8282828282828283,3.0303030303030303,3.2323232323232323,3.4343434343434343,3.6363636363636362,3.8383838383838382,4.040404040404041,4.242424242424242,4.444444444444445,4.646464646464646,4.848484848484849,5.05050505050505,5.252525252525253,5.454545454545454,5.656565656565657,5.858585858585858,6.0606060606060606,6.262626262626262,6.4646464646464645,6.666666666666667,6.8686868686868685,7.070707070707071,7.2727272727272725,7.474747474747475,7.6767676767676765,7.878787878787879,8.080808080808081,8.282828282828282,8.484848484848484,8.686868686868687,8.88888888888889,9.09090909090909,9.292929292929292,9.494949494949495,9.696969696969697,9.8989898989899,10.1010101010101,10.303030303030303,10.505050505050505,10.707070707070708,10.909090909090908,11.11111111111111,11.313131313131313,11.515151515151516,11.717171717171716,11.919191919191919,12.121212121212121,12.323232323232324,12.525252525252524,12.727272727272727,12.929292929292929,13.131313131313131,13.333333333333334,13.535353535353535,13.737373737373737,13.93939393939394,14.141414141414142,14.343434343434343,14.545454545454545,14.747474747474747,14.94949494949495,15.15151515151515,15.353535353535353,15.555555555555555,15.757575757575758,15.959595959595958,16.161616161616163,16.363636363636363,16.565656565656564,16.767676767676768,16.96969696969697,17.171717171717173,17.373737373737374,17.575757575757574,17.77777777777778,17.97979797979798,18.18181818181818,18.383838383838384,18.585858585858585,18.78787878787879,18.98989898989899,19.19191919191919,19.393939393939394,19.595959595959595,19.7979797979798,20.0],\"xaxis\":\"x\",\"y\":[0.0,0.5929079290546404,0.9549022414440739,0.9450008187146685,0.5670598638627709,-0.03172793349806786,-0.6181589862206053,-0.9638421585599419,-0.9341478602651068,-0.5406408174555982,0.06342391965656492,0.6427876096865391,0.9718115683235418,0.9223542941045816,0.5136773915734072,-0.09505604330418282,-0.6667690005162913,-0.9788024462147785,-0.909631995354519,-0.48619673610046904,0.12659245357375007,0.6900790114821109,0.984807753012208,0.8959937742913363,0.45822652172741013,-0.15800139597334784,-0.7126941713788623,-0.9898214418809322,-0.881453363447583,-0.42979491208917237,0.18925124436041052,0.7345917086575319,0.993838464461254,0.8660254037844385,0.4009305354066155,-0.22031053278653986,-0.7557495743542563,-0.9968547759519422,-0.8497254299495147,-0.37166245566032713,0.2511479871810808,0.7761464642917542,0.9988673391830079,0.8325698546347724,0.3420201433256694,-0.2817325568414268,-0.795761840530831,-0.9998741276738751,-0.8145759520503354,-0.31203344569848546,0.3120334456984831,0.814575952050334,0.9998741276738751,0.7957618405308324,0.28173255684143594,-0.3420201433256638,-0.8325698546347691,-0.9988673391830081,-0.7761464642917579,-0.2511479871810797,0.37166245566032813,0.8497254299495154,0.9968547759519427,0.7557495743542602,0.22031053278654225,-0.4009305354066133,-0.866025403784439,-0.9938384644612547,-0.734591708657536,-0.18925124436041293,0.4297949120891702,0.8814533634475785,0.9898214418809337,0.7126941713788665,0.15800139597335378,-0.45822652172740796,-0.8959937742913352,-0.9848077530122081,-0.6900790114821114,-0.12659245357375426,0.48619673610047154,0.9096319953545172,0.9788024462147805,0.6667690005162918,0.0950560433041888,-0.5136773915734082,-0.9223542941045799,-0.971811568323544,-0.6427876096865404,-0.06342391965657179,0.5406408174555924,0.934147860265105,0.963842158559943,0.6181589862206016,0.031727933498068975,-0.5670598638627647,-0.9450008187146688,-0.9549022414440753,-0.5929079290546376,-2.4492935982947065e-15],\"yaxis\":\"y\",\"type\":\"scatter\"}],                        {\"template\":{\"data\":{\"histogram2dcontour\":[{\"type\":\"histogram2dcontour\",\"colorbar\":{\"outlinewidth\":0,\"ticks\":\"\"},\"colorscale\":[[0.0,\"#0d0887\"],[0.1111111111111111,\"#46039f\"],[0.2222222222222222,\"#7201a8\"],[0.3333333333333333,\"#9c179e\"],[0.4444444444444444,\"#bd3786\"],[0.5555555555555556,\"#d8576b\"],[0.6666666666666666,\"#ed7953\"],[0.7777777777777778,\"#fb9f3a\"],[0.8888888888888888,\"#fdca26\"],[1.0,\"#f0f921\"]]}],\"choropleth\":[{\"type\":\"choropleth\",\"colorbar\":{\"outlinewidth\":0,\"ticks\":\"\"}}],\"histogram2d\":[{\"type\":\"histogram2d\",\"colorbar\":{\"outlinewidth\":0,\"ticks\":\"\"},\"colorscale\":[[0.0,\"#0d0887\"],[0.1111111111111111,\"#46039f\"],[0.2222222222222222,\"#7201a8\"],[0.3333333333333333,\"#9c179e\"],[0.4444444444444444,\"#bd3786\"],[0.5555555555555556,\"#d8576b\"],[0.6666666666666666,\"#ed7953\"],[0.7777777777777778,\"#fb9f3a\"],[0.8888888888888888,\"#fdca26\"],[1.0,\"#f0f921\"]]}],\"heatmap\":[{\"type\":\"heatmap\",\"colorbar\":{\"outlinewidth\":0,\"ticks\":\"\"},\"colorscale\":[[0.0,\"#0d0887\"],[0.1111111111111111,\"#46039f\"],[0.2222222222222222,\"#7201a8\"],[0.3333333333333333,\"#9c179e\"],[0.4444444444444444,\"#bd3786\"],[0.5555555555555556,\"#d8576b\"],[0.6666666666666666,\"#ed7953\"],[0.7777777777777778,\"#fb9f3a\"],[0.8888888888888888,\"#fdca26\"],[1.0,\"#f0f921\"]]}],\"heatmapgl\":[{\"type\":\"heatmapgl\",\"colorbar\":{\"outlinewidth\":0,\"ticks\":\"\"},\"colorscale\":[[0.0,\"#0d0887\"],[0.1111111111111111,\"#46039f\"],[0.2222222222222222,\"#7201a8\"],[0.3333333333333333,\"#9c179e\"],[0.4444444444444444,\"#bd3786\"],[0.5555555555555556,\"#d8576b\"],[0.6666666666666666,\"#ed7953\"],[0.7777777777777778,\"#fb9f3a\"],[0.8888888888888888,\"#fdca26\"],[1.0,\"#f0f921\"]]}],\"contourcarpet\":[{\"type\":\"contourcarpet\",\"colorbar\":{\"outlinewidth\":0,\"ticks\":\"\"}}],\"contour\":[{\"type\":\"contour\",\"colorbar\":{\"outlinewidth\":0,\"ticks\":\"\"},\"colorscale\":[[0.0,\"#0d0887\"],[0.1111111111111111,\"#46039f\"],[0.2222222222222222,\"#7201a8\"],[0.3333333333333333,\"#9c179e\"],[0.4444444444444444,\"#bd3786\"],[0.5555555555555556,\"#d8576b\"],[0.6666666666666666,\"#ed7953\"],[0.7777777777777778,\"#fb9f3a\"],[0.8888888888888888,\"#fdca26\"],[1.0,\"#f0f921\"]]}],\"surface\":[{\"type\":\"surface\",\"colorbar\":{\"outlinewidth\":0,\"ticks\":\"\"},\"colorscale\":[[0.0,\"#0d0887\"],[0.1111111111111111,\"#46039f\"],[0.2222222222222222,\"#7201a8\"],[0.3333333333333333,\"#9c179e\"],[0.4444444444444444,\"#bd3786\"],[0.5555555555555556,\"#d8576b\"],[0.6666666666666666,\"#ed7953\"],[0.7777777777777778,\"#fb9f3a\"],[0.8888888888888888,\"#fdca26\"],[1.0,\"#f0f921\"]]}],\"mesh3d\":[{\"type\":\"mesh3d\",\"colorbar\":{\"outlinewidth\":0,\"ticks\":\"\"}}],\"scatter\":[{\"fillpattern\":{\"fillmode\":\"overlay\",\"size\":10,\"solidity\":0.2},\"type\":\"scatter\"}],\"parcoords\":[{\"type\":\"parcoords\",\"line\":{\"colorbar\":{\"outlinewidth\":0,\"ticks\":\"\"}}}],\"scatterpolargl\":[{\"type\":\"scatterpolargl\",\"marker\":{\"colorbar\":{\"outlinewidth\":0,\"ticks\":\"\"}}}],\"bar\":[{\"error_x\":{\"color\":\"#2a3f5f\"},\"error_y\":{\"color\":\"#2a3f5f\"},\"marker\":{\"line\":{\"color\":\"white\",\"width\":0.5},\"pattern\":{\"fillmode\":\"overlay\",\"size\":10,\"solidity\":0.2}},\"type\":\"bar\"}],\"scattergeo\":[{\"type\":\"scattergeo\",\"marker\":{\"colorbar\":{\"outlinewidth\":0,\"ticks\":\"\"}}}],\"scatterpolar\":[{\"type\":\"scatterpolar\",\"marker\":{\"colorbar\":{\"outlinewidth\":0,\"ticks\":\"\"}}}],\"histogram\":[{\"marker\":{\"pattern\":{\"fillmode\":\"overlay\",\"size\":10,\"solidity\":0.2}},\"type\":\"histogram\"}],\"scattergl\":[{\"type\":\"scattergl\",\"marker\":{\"colorbar\":{\"outlinewidth\":0,\"ticks\":\"\"}}}],\"scatter3d\":[{\"type\":\"scatter3d\",\"line\":{\"colorbar\":{\"outlinewidth\":0,\"ticks\":\"\"}},\"marker\":{\"colorbar\":{\"outlinewidth\":0,\"ticks\":\"\"}}}],\"scattermapbox\":[{\"type\":\"scattermapbox\",\"marker\":{\"colorbar\":{\"outlinewidth\":0,\"ticks\":\"\"}}}],\"scatterternary\":[{\"type\":\"scatterternary\",\"marker\":{\"colorbar\":{\"outlinewidth\":0,\"ticks\":\"\"}}}],\"scattercarpet\":[{\"type\":\"scattercarpet\",\"marker\":{\"colorbar\":{\"outlinewidth\":0,\"ticks\":\"\"}}}],\"carpet\":[{\"aaxis\":{\"endlinecolor\":\"#2a3f5f\",\"gridcolor\":\"#C8D4E3\",\"linecolor\":\"#C8D4E3\",\"minorgridcolor\":\"#C8D4E3\",\"startlinecolor\":\"#2a3f5f\"},\"baxis\":{\"endlinecolor\":\"#2a3f5f\",\"gridcolor\":\"#C8D4E3\",\"linecolor\":\"#C8D4E3\",\"minorgridcolor\":\"#C8D4E3\",\"startlinecolor\":\"#2a3f5f\"},\"type\":\"carpet\"}],\"table\":[{\"cells\":{\"fill\":{\"color\":\"#EBF0F8\"},\"line\":{\"color\":\"white\"}},\"header\":{\"fill\":{\"color\":\"#C8D4E3\"},\"line\":{\"color\":\"white\"}},\"type\":\"table\"}],\"barpolar\":[{\"marker\":{\"line\":{\"color\":\"white\",\"width\":0.5},\"pattern\":{\"fillmode\":\"overlay\",\"size\":10,\"solidity\":0.2}},\"type\":\"barpolar\"}],\"pie\":[{\"automargin\":true,\"type\":\"pie\"}]},\"layout\":{\"autotypenumbers\":\"strict\",\"colorway\":[\"#636efa\",\"#EF553B\",\"#00cc96\",\"#ab63fa\",\"#FFA15A\",\"#19d3f3\",\"#FF6692\",\"#B6E880\",\"#FF97FF\",\"#FECB52\"],\"font\":{\"color\":\"#2a3f5f\"},\"hovermode\":\"closest\",\"hoverlabel\":{\"align\":\"left\"},\"paper_bgcolor\":\"white\",\"plot_bgcolor\":\"white\",\"polar\":{\"bgcolor\":\"white\",\"angularaxis\":{\"gridcolor\":\"#EBF0F8\",\"linecolor\":\"#EBF0F8\",\"ticks\":\"\"},\"radialaxis\":{\"gridcolor\":\"#EBF0F8\",\"linecolor\":\"#EBF0F8\",\"ticks\":\"\"}},\"ternary\":{\"bgcolor\":\"white\",\"aaxis\":{\"gridcolor\":\"#DFE8F3\",\"linecolor\":\"#A2B1C6\",\"ticks\":\"\"},\"baxis\":{\"gridcolor\":\"#DFE8F3\",\"linecolor\":\"#A2B1C6\",\"ticks\":\"\"},\"caxis\":{\"gridcolor\":\"#DFE8F3\",\"linecolor\":\"#A2B1C6\",\"ticks\":\"\"}},\"coloraxis\":{\"colorbar\":{\"outlinewidth\":0,\"ticks\":\"\"}},\"colorscale\":{\"sequential\":[[0.0,\"#0d0887\"],[0.1111111111111111,\"#46039f\"],[0.2222222222222222,\"#7201a8\"],[0.3333333333333333,\"#9c179e\"],[0.4444444444444444,\"#bd3786\"],[0.5555555555555556,\"#d8576b\"],[0.6666666666666666,\"#ed7953\"],[0.7777777777777778,\"#fb9f3a\"],[0.8888888888888888,\"#fdca26\"],[1.0,\"#f0f921\"]],\"sequentialminus\":[[0.0,\"#0d0887\"],[0.1111111111111111,\"#46039f\"],[0.2222222222222222,\"#7201a8\"],[0.3333333333333333,\"#9c179e\"],[0.4444444444444444,\"#bd3786\"],[0.5555555555555556,\"#d8576b\"],[0.6666666666666666,\"#ed7953\"],[0.7777777777777778,\"#fb9f3a\"],[0.8888888888888888,\"#fdca26\"],[1.0,\"#f0f921\"]],\"diverging\":[[0,\"#8e0152\"],[0.1,\"#c51b7d\"],[0.2,\"#de77ae\"],[0.3,\"#f1b6da\"],[0.4,\"#fde0ef\"],[0.5,\"#f7f7f7\"],[0.6,\"#e6f5d0\"],[0.7,\"#b8e186\"],[0.8,\"#7fbc41\"],[0.9,\"#4d9221\"],[1,\"#276419\"]]},\"xaxis\":{\"gridcolor\":\"#EBF0F8\",\"linecolor\":\"#EBF0F8\",\"ticks\":\"\",\"title\":{\"standoff\":15},\"zerolinecolor\":\"#EBF0F8\",\"automargin\":true,\"zerolinewidth\":2},\"yaxis\":{\"gridcolor\":\"#EBF0F8\",\"linecolor\":\"#EBF0F8\",\"ticks\":\"\",\"title\":{\"standoff\":15},\"zerolinecolor\":\"#EBF0F8\",\"automargin\":true,\"zerolinewidth\":2},\"scene\":{\"xaxis\":{\"backgroundcolor\":\"white\",\"gridcolor\":\"#DFE8F3\",\"linecolor\":\"#EBF0F8\",\"showbackground\":true,\"ticks\":\"\",\"zerolinecolor\":\"#EBF0F8\",\"gridwidth\":2},\"yaxis\":{\"backgroundcolor\":\"white\",\"gridcolor\":\"#DFE8F3\",\"linecolor\":\"#EBF0F8\",\"showbackground\":true,\"ticks\":\"\",\"zerolinecolor\":\"#EBF0F8\",\"gridwidth\":2},\"zaxis\":{\"backgroundcolor\":\"white\",\"gridcolor\":\"#DFE8F3\",\"linecolor\":\"#EBF0F8\",\"showbackground\":true,\"ticks\":\"\",\"zerolinecolor\":\"#EBF0F8\",\"gridwidth\":2}},\"shapedefaults\":{\"line\":{\"color\":\"#2a3f5f\"}},\"annotationdefaults\":{\"arrowcolor\":\"#2a3f5f\",\"arrowhead\":0,\"arrowwidth\":1},\"geo\":{\"bgcolor\":\"white\",\"landcolor\":\"white\",\"subunitcolor\":\"#C8D4E3\",\"showland\":true,\"showlakes\":true,\"lakecolor\":\"white\"},\"title\":{\"x\":0.05},\"mapbox\":{\"style\":\"light\"}}},\"xaxis\":{\"anchor\":\"y\",\"domain\":[0.0,1.0],\"title\":{\"text\":\"Time\",\"font\":{\"size\":12}}},\"yaxis\":{\"anchor\":\"x\",\"domain\":[0.0,1.0],\"title\":{\"text\":\"Value\",\"font\":{\"size\":12}}},\"legend\":{\"title\":{\"text\":\"ts\"},\"tracegroupgap\":0},\"margin\":{\"t\":60},\"title\":{\"font\":{\"size\":25},\"text\":\"Sinusoidal Waves\",\"x\":0.5,\"xanchor\":\"center\",\"yanchor\":\"top\"},\"autosize\":false,\"width\":900,\"height\":500},                        {\"responsive\": true}                    ).then(function(){\n",
              "                            \n",
              "var gd = document.getElementById('52a83b5e-f3be-421e-bcb8-227252f77e6e');\n",
              "var x = new MutationObserver(function (mutations, observer) {{\n",
              "        var display = window.getComputedStyle(gd).display;\n",
              "        if (!display || display === 'none') {{\n",
              "            console.log([gd, 'removed!']);\n",
              "            Plotly.purge(gd);\n",
              "            observer.disconnect();\n",
              "        }}\n",
              "}});\n",
              "\n",
              "// Listen for the removal of the full notebook cells\n",
              "var notebookContainer = gd.closest('#notebook-container');\n",
              "if (notebookContainer) {{\n",
              "    x.observe(notebookContainer, {childList: true});\n",
              "}}\n",
              "\n",
              "// Listen for the clearing of the current output cell\n",
              "var outputEl = gd.closest('.output');\n",
              "if (outputEl) {{\n",
              "    x.observe(outputEl, {childList: true});\n",
              "}}\n",
              "\n",
              "                        })                };                            </script>        </div>\n",
              "</body>\n",
              "</html>"
            ]
          },
          "metadata": {}
        }
      ]
    },
    {
      "cell_type": "code",
      "source": [
        "# PseudoPeriodic signal with Amplitude=1 & Frequency=0.25\n",
        "signal = ts.signals.PseudoPeriodic(amplitude=1, frequency=0.25)\n",
        "#Generating Timeseries\n",
        "samples, regular_time_samples, signals, errors = generate_timeseries(signal=signal)\n",
        "plot_time_series(regular_time_samples,\n",
        "                 samples,\n",
        "                 \"Pseudo Periodic\")"
      ],
      "metadata": {
        "colab": {
          "base_uri": "https://localhost:8080/",
          "height": 517
        },
        "id": "7wOOO9fwoI29",
        "outputId": "fc925eac-c968-46e1-a2e2-40606e9f0627"
      },
      "execution_count": 3,
      "outputs": [
        {
          "output_type": "display_data",
          "data": {
            "text/html": [
              "<html>\n",
              "<head><meta charset=\"utf-8\" /></head>\n",
              "<body>\n",
              "    <div>            <script src=\"https://cdnjs.cloudflare.com/ajax/libs/mathjax/2.7.5/MathJax.js?config=TeX-AMS-MML_SVG\"></script><script type=\"text/javascript\">if (window.MathJax && window.MathJax.Hub && window.MathJax.Hub.Config) {window.MathJax.Hub.Config({SVG: {font: \"STIX-Web\"}});}</script>                <script type=\"text/javascript\">window.PlotlyConfig = {MathJaxConfig: 'local'};</script>\n",
              "        <script charset=\"utf-8\" src=\"https://cdn.plot.ly/plotly-2.35.2.min.js\"></script>                <div id=\"5388ef3b-e116-4aa6-8744-19a3437ec840\" class=\"plotly-graph-div\" style=\"height:500px; width:900px;\"></div>            <script type=\"text/javascript\">                                    window.PLOTLYENV=window.PLOTLYENV || {};                                    if (document.getElementById(\"5388ef3b-e116-4aa6-8744-19a3437ec840\")) {                    Plotly.newPlot(                        \"5388ef3b-e116-4aa6-8744-19a3437ec840\",                        [{\"hovertemplate\":\"Time=%{x}\\u003cbr\\u003eValue=%{y}\\u003cextra\\u003e\\u003c\\u002fextra\\u003e\",\"legendgroup\":\"\",\"line\":{\"color\":\"#636efa\",\"dash\":\"solid\"},\"marker\":{\"symbol\":\"circle\"},\"mode\":\"lines\",\"name\":\"\",\"orientation\":\"v\",\"showlegend\":false,\"x\":[0.0,0.20202020202020202,0.40404040404040403,0.6060606060606061,0.8080808080808081,1.0101010101010102,1.2121212121212122,1.4141414141414141,1.6161616161616161,1.8181818181818181,2.0202020202020203,2.2222222222222223,2.4242424242424243,2.6262626262626263,2.8282828282828283,3.0303030303030303,3.2323232323232323,3.4343434343434343,3.6363636363636362,3.8383838383838382,4.040404040404041,4.242424242424242,4.444444444444445,4.646464646464646,4.848484848484849,5.05050505050505,5.252525252525253,5.454545454545454,5.656565656565657,5.858585858585858,6.0606060606060606,6.262626262626262,6.4646464646464645,6.666666666666667,6.8686868686868685,7.070707070707071,7.2727272727272725,7.474747474747475,7.6767676767676765,7.878787878787879,8.080808080808081,8.282828282828282,8.484848484848484,8.686868686868687,8.88888888888889,9.09090909090909,9.292929292929292,9.494949494949495,9.696969696969697,9.8989898989899,10.1010101010101,10.303030303030303,10.505050505050505,10.707070707070708,10.909090909090908,11.11111111111111,11.313131313131313,11.515151515151516,11.717171717171716,11.919191919191919,12.121212121212121,12.323232323232324,12.525252525252524,12.727272727272727,12.929292929292929,13.131313131313131,13.333333333333334,13.535353535353535,13.737373737373737,13.93939393939394,14.141414141414142,14.343434343434343,14.545454545454545,14.747474747474747,14.94949494949495,15.15151515151515,15.353535353535353,15.555555555555555,15.757575757575758,15.959595959595958,16.161616161616163,16.363636363636363,16.565656565656564,16.767676767676768,16.96969696969697,17.171717171717173,17.373737373737374,17.575757575757574,17.77777777777778,17.97979797979798,18.18181818181818,18.383838383838384,18.585858585858585,18.78787878787879,18.98989898989899,19.19191919191919,19.393939393939394,19.595959595959595,19.7979797979798,20.0],\"xaxis\":\"x\",\"y\":[-0.0,0.04449472729907287,0.28288895292785965,0.26618701838232633,0.07250617136989888,0.22938354915501205,-0.33157422812962173,-0.355085155967105,-0.33835715339718425,-0.7198939457356532,1.0153259588060037,-1.167280745985276,0.94025504403136,0.9878229641107933,0.42534258770755246,0.9136571499570952,-0.8704202824828836,0.8264209524088327,0.9518237323776121,0.6469755604927513,-0.6893982514945176,0.9194762747212614,0.09654189399542905,-0.9679602675972833,-0.28241398593868405,0.08533840410834576,0.7973311589989619,-0.9528089713671979,-0.8512646919396948,0.24123875188461447,-0.937171126647431,-0.042803312137162326,0.9652986595277647,-0.6232494072170983,0.02132072631647203,0.5182721288084349,0.03465431819879283,0.9584272639068238,0.8661599787391825,-0.9335514557721482,-0.6879600907430767,-0.025817726715655975,-0.7595770995066017,0.245368808298265,-0.9442181016093609,-0.25331165816077145,-0.7737172107227202,-0.8344205282891516,0.4135150038851044,-0.8304309714688592,-0.8792890168870261,0.3209015742119632,-0.5318160128077848,0.20324466389749443,0.4955581978572046,-1.03560319452143,-1.023972908296111,0.45316721537226207,-0.6209206857465277,1.0559177108147388,-0.8316663084405542,-0.17801867695897203,-0.8735486771251197,0.9775384839629302,0.8216725374027513,-0.20217077071070697,-0.9565837507272463,-0.535776761895457,1.1568403740575945,0.5302526239664275,-0.9794944899971489,0.24887556490177512,-0.054891018159447205,-1.0365008885801248,-0.8920140107933324,0.514723970701928,1.0763431022654237,-0.2148754132745116,0.15403247764506195,0.9261153925322967,0.19886261964425145,0.2978739954967355,0.3101433114394838,0.5672834455966416,0.2496233445727981,0.8575290063803627,0.014563189384755705,-0.7576393160065015,-0.5830134987097363,0.7641550457285032,-0.45561937404913516,1.022752481378934,0.2968491391778583,-0.8744249667793887,0.08288522139221097,-0.8012746357167141,-0.8111983400618729,-1.0605908188440671,-0.5109814195794958,0.1293163617814473],\"yaxis\":\"y\",\"type\":\"scatter\"}],                        {\"template\":{\"data\":{\"histogram2dcontour\":[{\"type\":\"histogram2dcontour\",\"colorbar\":{\"outlinewidth\":0,\"ticks\":\"\"},\"colorscale\":[[0.0,\"#0d0887\"],[0.1111111111111111,\"#46039f\"],[0.2222222222222222,\"#7201a8\"],[0.3333333333333333,\"#9c179e\"],[0.4444444444444444,\"#bd3786\"],[0.5555555555555556,\"#d8576b\"],[0.6666666666666666,\"#ed7953\"],[0.7777777777777778,\"#fb9f3a\"],[0.8888888888888888,\"#fdca26\"],[1.0,\"#f0f921\"]]}],\"choropleth\":[{\"type\":\"choropleth\",\"colorbar\":{\"outlinewidth\":0,\"ticks\":\"\"}}],\"histogram2d\":[{\"type\":\"histogram2d\",\"colorbar\":{\"outlinewidth\":0,\"ticks\":\"\"},\"colorscale\":[[0.0,\"#0d0887\"],[0.1111111111111111,\"#46039f\"],[0.2222222222222222,\"#7201a8\"],[0.3333333333333333,\"#9c179e\"],[0.4444444444444444,\"#bd3786\"],[0.5555555555555556,\"#d8576b\"],[0.6666666666666666,\"#ed7953\"],[0.7777777777777778,\"#fb9f3a\"],[0.8888888888888888,\"#fdca26\"],[1.0,\"#f0f921\"]]}],\"heatmap\":[{\"type\":\"heatmap\",\"colorbar\":{\"outlinewidth\":0,\"ticks\":\"\"},\"colorscale\":[[0.0,\"#0d0887\"],[0.1111111111111111,\"#46039f\"],[0.2222222222222222,\"#7201a8\"],[0.3333333333333333,\"#9c179e\"],[0.4444444444444444,\"#bd3786\"],[0.5555555555555556,\"#d8576b\"],[0.6666666666666666,\"#ed7953\"],[0.7777777777777778,\"#fb9f3a\"],[0.8888888888888888,\"#fdca26\"],[1.0,\"#f0f921\"]]}],\"heatmapgl\":[{\"type\":\"heatmapgl\",\"colorbar\":{\"outlinewidth\":0,\"ticks\":\"\"},\"colorscale\":[[0.0,\"#0d0887\"],[0.1111111111111111,\"#46039f\"],[0.2222222222222222,\"#7201a8\"],[0.3333333333333333,\"#9c179e\"],[0.4444444444444444,\"#bd3786\"],[0.5555555555555556,\"#d8576b\"],[0.6666666666666666,\"#ed7953\"],[0.7777777777777778,\"#fb9f3a\"],[0.8888888888888888,\"#fdca26\"],[1.0,\"#f0f921\"]]}],\"contourcarpet\":[{\"type\":\"contourcarpet\",\"colorbar\":{\"outlinewidth\":0,\"ticks\":\"\"}}],\"contour\":[{\"type\":\"contour\",\"colorbar\":{\"outlinewidth\":0,\"ticks\":\"\"},\"colorscale\":[[0.0,\"#0d0887\"],[0.1111111111111111,\"#46039f\"],[0.2222222222222222,\"#7201a8\"],[0.3333333333333333,\"#9c179e\"],[0.4444444444444444,\"#bd3786\"],[0.5555555555555556,\"#d8576b\"],[0.6666666666666666,\"#ed7953\"],[0.7777777777777778,\"#fb9f3a\"],[0.8888888888888888,\"#fdca26\"],[1.0,\"#f0f921\"]]}],\"surface\":[{\"type\":\"surface\",\"colorbar\":{\"outlinewidth\":0,\"ticks\":\"\"},\"colorscale\":[[0.0,\"#0d0887\"],[0.1111111111111111,\"#46039f\"],[0.2222222222222222,\"#7201a8\"],[0.3333333333333333,\"#9c179e\"],[0.4444444444444444,\"#bd3786\"],[0.5555555555555556,\"#d8576b\"],[0.6666666666666666,\"#ed7953\"],[0.7777777777777778,\"#fb9f3a\"],[0.8888888888888888,\"#fdca26\"],[1.0,\"#f0f921\"]]}],\"mesh3d\":[{\"type\":\"mesh3d\",\"colorbar\":{\"outlinewidth\":0,\"ticks\":\"\"}}],\"scatter\":[{\"fillpattern\":{\"fillmode\":\"overlay\",\"size\":10,\"solidity\":0.2},\"type\":\"scatter\"}],\"parcoords\":[{\"type\":\"parcoords\",\"line\":{\"colorbar\":{\"outlinewidth\":0,\"ticks\":\"\"}}}],\"scatterpolargl\":[{\"type\":\"scatterpolargl\",\"marker\":{\"colorbar\":{\"outlinewidth\":0,\"ticks\":\"\"}}}],\"bar\":[{\"error_x\":{\"color\":\"#2a3f5f\"},\"error_y\":{\"color\":\"#2a3f5f\"},\"marker\":{\"line\":{\"color\":\"white\",\"width\":0.5},\"pattern\":{\"fillmode\":\"overlay\",\"size\":10,\"solidity\":0.2}},\"type\":\"bar\"}],\"scattergeo\":[{\"type\":\"scattergeo\",\"marker\":{\"colorbar\":{\"outlinewidth\":0,\"ticks\":\"\"}}}],\"scatterpolar\":[{\"type\":\"scatterpolar\",\"marker\":{\"colorbar\":{\"outlinewidth\":0,\"ticks\":\"\"}}}],\"histogram\":[{\"marker\":{\"pattern\":{\"fillmode\":\"overlay\",\"size\":10,\"solidity\":0.2}},\"type\":\"histogram\"}],\"scattergl\":[{\"type\":\"scattergl\",\"marker\":{\"colorbar\":{\"outlinewidth\":0,\"ticks\":\"\"}}}],\"scatter3d\":[{\"type\":\"scatter3d\",\"line\":{\"colorbar\":{\"outlinewidth\":0,\"ticks\":\"\"}},\"marker\":{\"colorbar\":{\"outlinewidth\":0,\"ticks\":\"\"}}}],\"scattermapbox\":[{\"type\":\"scattermapbox\",\"marker\":{\"colorbar\":{\"outlinewidth\":0,\"ticks\":\"\"}}}],\"scatterternary\":[{\"type\":\"scatterternary\",\"marker\":{\"colorbar\":{\"outlinewidth\":0,\"ticks\":\"\"}}}],\"scattercarpet\":[{\"type\":\"scattercarpet\",\"marker\":{\"colorbar\":{\"outlinewidth\":0,\"ticks\":\"\"}}}],\"carpet\":[{\"aaxis\":{\"endlinecolor\":\"#2a3f5f\",\"gridcolor\":\"#C8D4E3\",\"linecolor\":\"#C8D4E3\",\"minorgridcolor\":\"#C8D4E3\",\"startlinecolor\":\"#2a3f5f\"},\"baxis\":{\"endlinecolor\":\"#2a3f5f\",\"gridcolor\":\"#C8D4E3\",\"linecolor\":\"#C8D4E3\",\"minorgridcolor\":\"#C8D4E3\",\"startlinecolor\":\"#2a3f5f\"},\"type\":\"carpet\"}],\"table\":[{\"cells\":{\"fill\":{\"color\":\"#EBF0F8\"},\"line\":{\"color\":\"white\"}},\"header\":{\"fill\":{\"color\":\"#C8D4E3\"},\"line\":{\"color\":\"white\"}},\"type\":\"table\"}],\"barpolar\":[{\"marker\":{\"line\":{\"color\":\"white\",\"width\":0.5},\"pattern\":{\"fillmode\":\"overlay\",\"size\":10,\"solidity\":0.2}},\"type\":\"barpolar\"}],\"pie\":[{\"automargin\":true,\"type\":\"pie\"}]},\"layout\":{\"autotypenumbers\":\"strict\",\"colorway\":[\"#636efa\",\"#EF553B\",\"#00cc96\",\"#ab63fa\",\"#FFA15A\",\"#19d3f3\",\"#FF6692\",\"#B6E880\",\"#FF97FF\",\"#FECB52\"],\"font\":{\"color\":\"#2a3f5f\"},\"hovermode\":\"closest\",\"hoverlabel\":{\"align\":\"left\"},\"paper_bgcolor\":\"white\",\"plot_bgcolor\":\"white\",\"polar\":{\"bgcolor\":\"white\",\"angularaxis\":{\"gridcolor\":\"#EBF0F8\",\"linecolor\":\"#EBF0F8\",\"ticks\":\"\"},\"radialaxis\":{\"gridcolor\":\"#EBF0F8\",\"linecolor\":\"#EBF0F8\",\"ticks\":\"\"}},\"ternary\":{\"bgcolor\":\"white\",\"aaxis\":{\"gridcolor\":\"#DFE8F3\",\"linecolor\":\"#A2B1C6\",\"ticks\":\"\"},\"baxis\":{\"gridcolor\":\"#DFE8F3\",\"linecolor\":\"#A2B1C6\",\"ticks\":\"\"},\"caxis\":{\"gridcolor\":\"#DFE8F3\",\"linecolor\":\"#A2B1C6\",\"ticks\":\"\"}},\"coloraxis\":{\"colorbar\":{\"outlinewidth\":0,\"ticks\":\"\"}},\"colorscale\":{\"sequential\":[[0.0,\"#0d0887\"],[0.1111111111111111,\"#46039f\"],[0.2222222222222222,\"#7201a8\"],[0.3333333333333333,\"#9c179e\"],[0.4444444444444444,\"#bd3786\"],[0.5555555555555556,\"#d8576b\"],[0.6666666666666666,\"#ed7953\"],[0.7777777777777778,\"#fb9f3a\"],[0.8888888888888888,\"#fdca26\"],[1.0,\"#f0f921\"]],\"sequentialminus\":[[0.0,\"#0d0887\"],[0.1111111111111111,\"#46039f\"],[0.2222222222222222,\"#7201a8\"],[0.3333333333333333,\"#9c179e\"],[0.4444444444444444,\"#bd3786\"],[0.5555555555555556,\"#d8576b\"],[0.6666666666666666,\"#ed7953\"],[0.7777777777777778,\"#fb9f3a\"],[0.8888888888888888,\"#fdca26\"],[1.0,\"#f0f921\"]],\"diverging\":[[0,\"#8e0152\"],[0.1,\"#c51b7d\"],[0.2,\"#de77ae\"],[0.3,\"#f1b6da\"],[0.4,\"#fde0ef\"],[0.5,\"#f7f7f7\"],[0.6,\"#e6f5d0\"],[0.7,\"#b8e186\"],[0.8,\"#7fbc41\"],[0.9,\"#4d9221\"],[1,\"#276419\"]]},\"xaxis\":{\"gridcolor\":\"#EBF0F8\",\"linecolor\":\"#EBF0F8\",\"ticks\":\"\",\"title\":{\"standoff\":15},\"zerolinecolor\":\"#EBF0F8\",\"automargin\":true,\"zerolinewidth\":2},\"yaxis\":{\"gridcolor\":\"#EBF0F8\",\"linecolor\":\"#EBF0F8\",\"ticks\":\"\",\"title\":{\"standoff\":15},\"zerolinecolor\":\"#EBF0F8\",\"automargin\":true,\"zerolinewidth\":2},\"scene\":{\"xaxis\":{\"backgroundcolor\":\"white\",\"gridcolor\":\"#DFE8F3\",\"linecolor\":\"#EBF0F8\",\"showbackground\":true,\"ticks\":\"\",\"zerolinecolor\":\"#EBF0F8\",\"gridwidth\":2},\"yaxis\":{\"backgroundcolor\":\"white\",\"gridcolor\":\"#DFE8F3\",\"linecolor\":\"#EBF0F8\",\"showbackground\":true,\"ticks\":\"\",\"zerolinecolor\":\"#EBF0F8\",\"gridwidth\":2},\"zaxis\":{\"backgroundcolor\":\"white\",\"gridcolor\":\"#DFE8F3\",\"linecolor\":\"#EBF0F8\",\"showbackground\":true,\"ticks\":\"\",\"zerolinecolor\":\"#EBF0F8\",\"gridwidth\":2}},\"shapedefaults\":{\"line\":{\"color\":\"#2a3f5f\"}},\"annotationdefaults\":{\"arrowcolor\":\"#2a3f5f\",\"arrowhead\":0,\"arrowwidth\":1},\"geo\":{\"bgcolor\":\"white\",\"landcolor\":\"white\",\"subunitcolor\":\"#C8D4E3\",\"showland\":true,\"showlakes\":true,\"lakecolor\":\"white\"},\"title\":{\"x\":0.05},\"mapbox\":{\"style\":\"light\"}}},\"xaxis\":{\"anchor\":\"y\",\"domain\":[0.0,1.0],\"title\":{\"text\":\"Time\",\"font\":{\"size\":12}}},\"yaxis\":{\"anchor\":\"x\",\"domain\":[0.0,1.0],\"title\":{\"text\":\"Value\",\"font\":{\"size\":12}}},\"legend\":{\"tracegroupgap\":0},\"margin\":{\"t\":60},\"title\":{\"font\":{\"size\":25},\"text\":\"Pseudo Periodic\",\"x\":0.5,\"xanchor\":\"center\",\"yanchor\":\"top\"},\"autosize\":false,\"width\":900,\"height\":500},                        {\"responsive\": true}                    ).then(function(){\n",
              "                            \n",
              "var gd = document.getElementById('5388ef3b-e116-4aa6-8744-19a3437ec840');\n",
              "var x = new MutationObserver(function (mutations, observer) {{\n",
              "        var display = window.getComputedStyle(gd).display;\n",
              "        if (!display || display === 'none') {{\n",
              "            console.log([gd, 'removed!']);\n",
              "            Plotly.purge(gd);\n",
              "            observer.disconnect();\n",
              "        }}\n",
              "}});\n",
              "\n",
              "// Listen for the removal of the full notebook cells\n",
              "var notebookContainer = gd.closest('#notebook-container');\n",
              "if (notebookContainer) {{\n",
              "    x.observe(notebookContainer, {childList: true});\n",
              "}}\n",
              "\n",
              "// Listen for the clearing of the current output cell\n",
              "var outputEl = gd.closest('.output');\n",
              "if (outputEl) {{\n",
              "    x.observe(outputEl, {childList: true});\n",
              "}}\n",
              "\n",
              "                        })                };                            </script>        </div>\n",
              "</body>\n",
              "</html>"
            ]
          },
          "metadata": {}
        }
      ]
    },
    {
      "cell_type": "markdown",
      "source": [
        "**Autoregressive signals**\n",
        "\n",
        "Another very popular signal in the real world is an autoregressive (AR) signal. We will go into this in more detail in Chapter 4, Setting a Strong Baseline Forecast, but for now, an AR signal refers to when the value of a time series for the current timestep is dependent on the values of the time series in the previous timesteps. This serial correlation is a key property of the AR signal, and it is parametrized by a few parameters, outlined as follows:\n",
        "\n",
        "Order of serial correlation—or, in other words, the number of previous timesteps the signal is dependent on\n",
        "Coefficients to combine the previous timesteps"
      ],
      "metadata": {
        "id": "Vl7z-ssScmO3"
      }
    },
    {
      "cell_type": "code",
      "source": [
        "%cd /content/Modern-Time-Series-Forecasting-with-Python-2E\n",
        "# We have re-implemented the class in src because of a bug in TimeSynth\n",
        "from src.synthetic_ts.autoregressive import AutoRegressive\n",
        "# Autoregressive signal with parameters 1.5 and -0.75\n",
        "# y(t) = 1.5*y(t-1) - 0.75*y(t-2)\n",
        "signal= AutoRegressive(ar_param=[1.5, -0.75])\n",
        "#Generate Timeseries\n",
        "samples, regular_time_samples, signals, errors = generate_timeseries(signal=signal)\n",
        "plot_time_series(regular_time_samples,\n",
        "                 samples,\n",
        "                 \"Auto Regressive\")"
      ],
      "metadata": {
        "colab": {
          "base_uri": "https://localhost:8080/",
          "height": 534
        },
        "id": "EK-AZJePcmr5",
        "outputId": "58e3cff2-55f2-4836-c891-88fd8261bc69"
      },
      "execution_count": 12,
      "outputs": [
        {
          "output_type": "stream",
          "name": "stdout",
          "text": [
            "/content/Modern-Time-Series-Forecasting-with-Python-2E\n"
          ]
        },
        {
          "output_type": "display_data",
          "data": {
            "text/html": [
              "<html>\n",
              "<head><meta charset=\"utf-8\" /></head>\n",
              "<body>\n",
              "    <div>            <script src=\"https://cdnjs.cloudflare.com/ajax/libs/mathjax/2.7.5/MathJax.js?config=TeX-AMS-MML_SVG\"></script><script type=\"text/javascript\">if (window.MathJax && window.MathJax.Hub && window.MathJax.Hub.Config) {window.MathJax.Hub.Config({SVG: {font: \"STIX-Web\"}});}</script>                <script type=\"text/javascript\">window.PlotlyConfig = {MathJaxConfig: 'local'};</script>\n",
              "        <script charset=\"utf-8\" src=\"https://cdn.plot.ly/plotly-2.35.2.min.js\"></script>                <div id=\"6ccabefe-493d-4dca-b7f9-def2edf6ccf0\" class=\"plotly-graph-div\" style=\"height:500px; width:900px;\"></div>            <script type=\"text/javascript\">                                    window.PLOTLYENV=window.PLOTLYENV || {};                                    if (document.getElementById(\"6ccabefe-493d-4dca-b7f9-def2edf6ccf0\")) {                    Plotly.newPlot(                        \"6ccabefe-493d-4dca-b7f9-def2edf6ccf0\",                        [{\"hovertemplate\":\"Time=%{x}\\u003cbr\\u003eValue=%{y}\\u003cextra\\u003e\\u003c\\u002fextra\\u003e\",\"legendgroup\":\"\",\"line\":{\"color\":\"#636efa\",\"dash\":\"solid\"},\"marker\":{\"symbol\":\"circle\"},\"mode\":\"lines\",\"name\":\"\",\"orientation\":\"v\",\"showlegend\":false,\"x\":[0.0,0.20202020202020202,0.40404040404040403,0.6060606060606061,0.8080808080808081,1.0101010101010102,1.2121212121212122,1.4141414141414141,1.6161616161616161,1.8181818181818181,2.0202020202020203,2.2222222222222223,2.4242424242424243,2.6262626262626263,2.8282828282828283,3.0303030303030303,3.2323232323232323,3.4343434343434343,3.6363636363636362,3.8383838383838382,4.040404040404041,4.242424242424242,4.444444444444445,4.646464646464646,4.848484848484849,5.05050505050505,5.252525252525253,5.454545454545454,5.656565656565657,5.858585858585858,6.0606060606060606,6.262626262626262,6.4646464646464645,6.666666666666667,6.8686868686868685,7.070707070707071,7.2727272727272725,7.474747474747475,7.6767676767676765,7.878787878787879,8.080808080808081,8.282828282828282,8.484848484848484,8.686868686868687,8.88888888888889,9.09090909090909,9.292929292929292,9.494949494949495,9.696969696969697,9.8989898989899,10.1010101010101,10.303030303030303,10.505050505050505,10.707070707070708,10.909090909090908,11.11111111111111,11.313131313131313,11.515151515151516,11.717171717171716,11.919191919191919,12.121212121212121,12.323232323232324,12.525252525252524,12.727272727272727,12.929292929292929,13.131313131313131,13.333333333333334,13.535353535353535,13.737373737373737,13.93939393939394,14.141414141414142,14.343434343434343,14.545454545454545,14.747474747474747,14.94949494949495,15.15151515151515,15.353535353535353,15.555555555555555,15.757575757575758,15.959595959595958,16.161616161616163,16.363636363636363,16.565656565656564,16.767676767676768,16.96969696969697,17.171717171717173,17.373737373737374,17.575757575757574,17.77777777777778,17.97979797979798,18.18181818181818,18.383838383838384,18.585858585858585,18.78787878787879,18.98989898989899,19.19191919191919,19.393939393939394,19.595959595959595,19.7979797979798,20.0],\"xaxis\":\"x\",\"y\":[-0.2347732990078869,-0.491985650013374,-0.27732475269541107,0.06901253189743473,0.24212431266648068,0.8283651013432108,0.5734560145268812,0.7874148571391774,1.138076527944425,0.5817533026536429,0.04869009879763332,0.20577758542520985,0.08332463629630343,0.1168621395231278,0.34120875827998254,0.36132769617992877,0.5247433670746344,1.3186622541909658,1.5711090751069356,2.047540176449352,1.7441389141099752,1.2192582771947005,0.13422078670962467,-0.21510882391202596,-0.08001021174329292,0.14443275068082156,0.825525726875452,1.1266333660753582,0.9849318169935665,0.6467590304848114,0.06449796136685951,-1.025395681884241,-1.4303027580842536,-1.402270586314114,-1.7531875707984064,-1.7265716147477665,-1.675137761239778,-1.5163613318344193,-0.4595855190909983,1.2043992508954604,1.654706723977001,1.6230744032238273,0.514317493647773,-1.8072139039088269,-2.67024896675298,-2.6185955982852183,-2.1317844869883804,-0.5024777007165273,0.2543636496357201,1.0720660396688744,1.8394586242871682,1.685429459309635,1.0135463118604688,0.47173648903100884,0.16500829228853958,-0.07591499920150549,-0.26133217343461185,0.3797064039734887,0.6910624898777384,0.7622553765404192,0.16558937425309023,-0.20114408464389738,0.050359319357769994,0.1682887179978943,0.6001014780986036,1.3183799348254759,1.3422176841993831,0.8314708168570005,0.735686686622248,1.2343530575117119,0.8369274229615022,0.39933443752492,-0.12311605699571555,-0.9022749471851781,-0.727735898942177,-0.6029083056319282,0.4522012631875033,0.8369551550348339,0.285449371330759,0.27756390311332957,0.16080083293686742,-0.05257244334022884,0.6732628111767982,0.9114586690055322,1.674186223825831,1.926518192215475,2.0269768935146786,1.202987798356253,0.762942203507656,0.3753713501175706,-0.27721977866670594,-0.7942624031664631,-0.27672737832152083,-0.38428524959111293,-0.18804607057213743,0.21741341936597336,0.2626925172310333,-0.14942828142237347,-0.6571996694134032,-0.49889974711878343],\"yaxis\":\"y\",\"type\":\"scatter\"}],                        {\"template\":{\"data\":{\"histogram2dcontour\":[{\"type\":\"histogram2dcontour\",\"colorbar\":{\"outlinewidth\":0,\"ticks\":\"\"},\"colorscale\":[[0.0,\"#0d0887\"],[0.1111111111111111,\"#46039f\"],[0.2222222222222222,\"#7201a8\"],[0.3333333333333333,\"#9c179e\"],[0.4444444444444444,\"#bd3786\"],[0.5555555555555556,\"#d8576b\"],[0.6666666666666666,\"#ed7953\"],[0.7777777777777778,\"#fb9f3a\"],[0.8888888888888888,\"#fdca26\"],[1.0,\"#f0f921\"]]}],\"choropleth\":[{\"type\":\"choropleth\",\"colorbar\":{\"outlinewidth\":0,\"ticks\":\"\"}}],\"histogram2d\":[{\"type\":\"histogram2d\",\"colorbar\":{\"outlinewidth\":0,\"ticks\":\"\"},\"colorscale\":[[0.0,\"#0d0887\"],[0.1111111111111111,\"#46039f\"],[0.2222222222222222,\"#7201a8\"],[0.3333333333333333,\"#9c179e\"],[0.4444444444444444,\"#bd3786\"],[0.5555555555555556,\"#d8576b\"],[0.6666666666666666,\"#ed7953\"],[0.7777777777777778,\"#fb9f3a\"],[0.8888888888888888,\"#fdca26\"],[1.0,\"#f0f921\"]]}],\"heatmap\":[{\"type\":\"heatmap\",\"colorbar\":{\"outlinewidth\":0,\"ticks\":\"\"},\"colorscale\":[[0.0,\"#0d0887\"],[0.1111111111111111,\"#46039f\"],[0.2222222222222222,\"#7201a8\"],[0.3333333333333333,\"#9c179e\"],[0.4444444444444444,\"#bd3786\"],[0.5555555555555556,\"#d8576b\"],[0.6666666666666666,\"#ed7953\"],[0.7777777777777778,\"#fb9f3a\"],[0.8888888888888888,\"#fdca26\"],[1.0,\"#f0f921\"]]}],\"heatmapgl\":[{\"type\":\"heatmapgl\",\"colorbar\":{\"outlinewidth\":0,\"ticks\":\"\"},\"colorscale\":[[0.0,\"#0d0887\"],[0.1111111111111111,\"#46039f\"],[0.2222222222222222,\"#7201a8\"],[0.3333333333333333,\"#9c179e\"],[0.4444444444444444,\"#bd3786\"],[0.5555555555555556,\"#d8576b\"],[0.6666666666666666,\"#ed7953\"],[0.7777777777777778,\"#fb9f3a\"],[0.8888888888888888,\"#fdca26\"],[1.0,\"#f0f921\"]]}],\"contourcarpet\":[{\"type\":\"contourcarpet\",\"colorbar\":{\"outlinewidth\":0,\"ticks\":\"\"}}],\"contour\":[{\"type\":\"contour\",\"colorbar\":{\"outlinewidth\":0,\"ticks\":\"\"},\"colorscale\":[[0.0,\"#0d0887\"],[0.1111111111111111,\"#46039f\"],[0.2222222222222222,\"#7201a8\"],[0.3333333333333333,\"#9c179e\"],[0.4444444444444444,\"#bd3786\"],[0.5555555555555556,\"#d8576b\"],[0.6666666666666666,\"#ed7953\"],[0.7777777777777778,\"#fb9f3a\"],[0.8888888888888888,\"#fdca26\"],[1.0,\"#f0f921\"]]}],\"surface\":[{\"type\":\"surface\",\"colorbar\":{\"outlinewidth\":0,\"ticks\":\"\"},\"colorscale\":[[0.0,\"#0d0887\"],[0.1111111111111111,\"#46039f\"],[0.2222222222222222,\"#7201a8\"],[0.3333333333333333,\"#9c179e\"],[0.4444444444444444,\"#bd3786\"],[0.5555555555555556,\"#d8576b\"],[0.6666666666666666,\"#ed7953\"],[0.7777777777777778,\"#fb9f3a\"],[0.8888888888888888,\"#fdca26\"],[1.0,\"#f0f921\"]]}],\"mesh3d\":[{\"type\":\"mesh3d\",\"colorbar\":{\"outlinewidth\":0,\"ticks\":\"\"}}],\"scatter\":[{\"fillpattern\":{\"fillmode\":\"overlay\",\"size\":10,\"solidity\":0.2},\"type\":\"scatter\"}],\"parcoords\":[{\"type\":\"parcoords\",\"line\":{\"colorbar\":{\"outlinewidth\":0,\"ticks\":\"\"}}}],\"scatterpolargl\":[{\"type\":\"scatterpolargl\",\"marker\":{\"colorbar\":{\"outlinewidth\":0,\"ticks\":\"\"}}}],\"bar\":[{\"error_x\":{\"color\":\"#2a3f5f\"},\"error_y\":{\"color\":\"#2a3f5f\"},\"marker\":{\"line\":{\"color\":\"white\",\"width\":0.5},\"pattern\":{\"fillmode\":\"overlay\",\"size\":10,\"solidity\":0.2}},\"type\":\"bar\"}],\"scattergeo\":[{\"type\":\"scattergeo\",\"marker\":{\"colorbar\":{\"outlinewidth\":0,\"ticks\":\"\"}}}],\"scatterpolar\":[{\"type\":\"scatterpolar\",\"marker\":{\"colorbar\":{\"outlinewidth\":0,\"ticks\":\"\"}}}],\"histogram\":[{\"marker\":{\"pattern\":{\"fillmode\":\"overlay\",\"size\":10,\"solidity\":0.2}},\"type\":\"histogram\"}],\"scattergl\":[{\"type\":\"scattergl\",\"marker\":{\"colorbar\":{\"outlinewidth\":0,\"ticks\":\"\"}}}],\"scatter3d\":[{\"type\":\"scatter3d\",\"line\":{\"colorbar\":{\"outlinewidth\":0,\"ticks\":\"\"}},\"marker\":{\"colorbar\":{\"outlinewidth\":0,\"ticks\":\"\"}}}],\"scattermapbox\":[{\"type\":\"scattermapbox\",\"marker\":{\"colorbar\":{\"outlinewidth\":0,\"ticks\":\"\"}}}],\"scatterternary\":[{\"type\":\"scatterternary\",\"marker\":{\"colorbar\":{\"outlinewidth\":0,\"ticks\":\"\"}}}],\"scattercarpet\":[{\"type\":\"scattercarpet\",\"marker\":{\"colorbar\":{\"outlinewidth\":0,\"ticks\":\"\"}}}],\"carpet\":[{\"aaxis\":{\"endlinecolor\":\"#2a3f5f\",\"gridcolor\":\"#C8D4E3\",\"linecolor\":\"#C8D4E3\",\"minorgridcolor\":\"#C8D4E3\",\"startlinecolor\":\"#2a3f5f\"},\"baxis\":{\"endlinecolor\":\"#2a3f5f\",\"gridcolor\":\"#C8D4E3\",\"linecolor\":\"#C8D4E3\",\"minorgridcolor\":\"#C8D4E3\",\"startlinecolor\":\"#2a3f5f\"},\"type\":\"carpet\"}],\"table\":[{\"cells\":{\"fill\":{\"color\":\"#EBF0F8\"},\"line\":{\"color\":\"white\"}},\"header\":{\"fill\":{\"color\":\"#C8D4E3\"},\"line\":{\"color\":\"white\"}},\"type\":\"table\"}],\"barpolar\":[{\"marker\":{\"line\":{\"color\":\"white\",\"width\":0.5},\"pattern\":{\"fillmode\":\"overlay\",\"size\":10,\"solidity\":0.2}},\"type\":\"barpolar\"}],\"pie\":[{\"automargin\":true,\"type\":\"pie\"}]},\"layout\":{\"autotypenumbers\":\"strict\",\"colorway\":[\"#636efa\",\"#EF553B\",\"#00cc96\",\"#ab63fa\",\"#FFA15A\",\"#19d3f3\",\"#FF6692\",\"#B6E880\",\"#FF97FF\",\"#FECB52\"],\"font\":{\"color\":\"#2a3f5f\"},\"hovermode\":\"closest\",\"hoverlabel\":{\"align\":\"left\"},\"paper_bgcolor\":\"white\",\"plot_bgcolor\":\"white\",\"polar\":{\"bgcolor\":\"white\",\"angularaxis\":{\"gridcolor\":\"#EBF0F8\",\"linecolor\":\"#EBF0F8\",\"ticks\":\"\"},\"radialaxis\":{\"gridcolor\":\"#EBF0F8\",\"linecolor\":\"#EBF0F8\",\"ticks\":\"\"}},\"ternary\":{\"bgcolor\":\"white\",\"aaxis\":{\"gridcolor\":\"#DFE8F3\",\"linecolor\":\"#A2B1C6\",\"ticks\":\"\"},\"baxis\":{\"gridcolor\":\"#DFE8F3\",\"linecolor\":\"#A2B1C6\",\"ticks\":\"\"},\"caxis\":{\"gridcolor\":\"#DFE8F3\",\"linecolor\":\"#A2B1C6\",\"ticks\":\"\"}},\"coloraxis\":{\"colorbar\":{\"outlinewidth\":0,\"ticks\":\"\"}},\"colorscale\":{\"sequential\":[[0.0,\"#0d0887\"],[0.1111111111111111,\"#46039f\"],[0.2222222222222222,\"#7201a8\"],[0.3333333333333333,\"#9c179e\"],[0.4444444444444444,\"#bd3786\"],[0.5555555555555556,\"#d8576b\"],[0.6666666666666666,\"#ed7953\"],[0.7777777777777778,\"#fb9f3a\"],[0.8888888888888888,\"#fdca26\"],[1.0,\"#f0f921\"]],\"sequentialminus\":[[0.0,\"#0d0887\"],[0.1111111111111111,\"#46039f\"],[0.2222222222222222,\"#7201a8\"],[0.3333333333333333,\"#9c179e\"],[0.4444444444444444,\"#bd3786\"],[0.5555555555555556,\"#d8576b\"],[0.6666666666666666,\"#ed7953\"],[0.7777777777777778,\"#fb9f3a\"],[0.8888888888888888,\"#fdca26\"],[1.0,\"#f0f921\"]],\"diverging\":[[0,\"#8e0152\"],[0.1,\"#c51b7d\"],[0.2,\"#de77ae\"],[0.3,\"#f1b6da\"],[0.4,\"#fde0ef\"],[0.5,\"#f7f7f7\"],[0.6,\"#e6f5d0\"],[0.7,\"#b8e186\"],[0.8,\"#7fbc41\"],[0.9,\"#4d9221\"],[1,\"#276419\"]]},\"xaxis\":{\"gridcolor\":\"#EBF0F8\",\"linecolor\":\"#EBF0F8\",\"ticks\":\"\",\"title\":{\"standoff\":15},\"zerolinecolor\":\"#EBF0F8\",\"automargin\":true,\"zerolinewidth\":2},\"yaxis\":{\"gridcolor\":\"#EBF0F8\",\"linecolor\":\"#EBF0F8\",\"ticks\":\"\",\"title\":{\"standoff\":15},\"zerolinecolor\":\"#EBF0F8\",\"automargin\":true,\"zerolinewidth\":2},\"scene\":{\"xaxis\":{\"backgroundcolor\":\"white\",\"gridcolor\":\"#DFE8F3\",\"linecolor\":\"#EBF0F8\",\"showbackground\":true,\"ticks\":\"\",\"zerolinecolor\":\"#EBF0F8\",\"gridwidth\":2},\"yaxis\":{\"backgroundcolor\":\"white\",\"gridcolor\":\"#DFE8F3\",\"linecolor\":\"#EBF0F8\",\"showbackground\":true,\"ticks\":\"\",\"zerolinecolor\":\"#EBF0F8\",\"gridwidth\":2},\"zaxis\":{\"backgroundcolor\":\"white\",\"gridcolor\":\"#DFE8F3\",\"linecolor\":\"#EBF0F8\",\"showbackground\":true,\"ticks\":\"\",\"zerolinecolor\":\"#EBF0F8\",\"gridwidth\":2}},\"shapedefaults\":{\"line\":{\"color\":\"#2a3f5f\"}},\"annotationdefaults\":{\"arrowcolor\":\"#2a3f5f\",\"arrowhead\":0,\"arrowwidth\":1},\"geo\":{\"bgcolor\":\"white\",\"landcolor\":\"white\",\"subunitcolor\":\"#C8D4E3\",\"showland\":true,\"showlakes\":true,\"lakecolor\":\"white\"},\"title\":{\"x\":0.05},\"mapbox\":{\"style\":\"light\"}}},\"xaxis\":{\"anchor\":\"y\",\"domain\":[0.0,1.0],\"title\":{\"text\":\"Time\",\"font\":{\"size\":12}}},\"yaxis\":{\"anchor\":\"x\",\"domain\":[0.0,1.0],\"title\":{\"text\":\"Value\",\"font\":{\"size\":12}}},\"legend\":{\"tracegroupgap\":0},\"margin\":{\"t\":60},\"title\":{\"font\":{\"size\":25},\"text\":\"Auto Regressive\",\"x\":0.5,\"xanchor\":\"center\",\"yanchor\":\"top\"},\"autosize\":false,\"width\":900,\"height\":500},                        {\"responsive\": true}                    ).then(function(){\n",
              "                            \n",
              "var gd = document.getElementById('6ccabefe-493d-4dca-b7f9-def2edf6ccf0');\n",
              "var x = new MutationObserver(function (mutations, observer) {{\n",
              "        var display = window.getComputedStyle(gd).display;\n",
              "        if (!display || display === 'none') {{\n",
              "            console.log([gd, 'removed!']);\n",
              "            Plotly.purge(gd);\n",
              "            observer.disconnect();\n",
              "        }}\n",
              "}});\n",
              "\n",
              "// Listen for the removal of the full notebook cells\n",
              "var notebookContainer = gd.closest('#notebook-container');\n",
              "if (notebookContainer) {{\n",
              "    x.observe(notebookContainer, {childList: true});\n",
              "}}\n",
              "\n",
              "// Listen for the clearing of the current output cell\n",
              "var outputEl = gd.closest('.output');\n",
              "if (outputEl) {{\n",
              "    x.observe(outputEl, {childList: true});\n",
              "}}\n",
              "\n",
              "                        })                };                            </script>        </div>\n",
              "</body>\n",
              "</html>"
            ]
          },
          "metadata": {}
        }
      ]
    },
    {
      "cell_type": "markdown",
      "source": [
        "**Mix and match**\n",
        "\n",
        "There are many more components that you can use to create your DGP and thereby generate a time series, but let’s quickly look at how we can combine the components we have already seen to generate a realistic time series.\n",
        "\n"
      ],
      "metadata": {
        "id": "mHGVKoNMeJB-"
      }
    },
    {
      "cell_type": "code",
      "source": [
        "#Generating Pseudo Periodic Signal\n",
        "pseudo_samples, regular_time_samples, _, _ = generate_timeseries(signal=ts.signals.PseudoPeriodic(amplitude=1, frequency=0.25), noise=ts.noise.GaussianNoise(std=0.3))\n",
        "# Generating an Autoregressive Signal\n",
        "ar_samples, regular_time_samples, _, _ = generate_timeseries(signal= AutoRegressive(ar_param=[1.5, -0.75]))\n",
        "# Combining the two signals using a mathematical equation\n",
        "ts = pseudo_samples*2+ar_samples\n",
        "plot_time_series(regular_time_samples,\n",
        "                 ts,\n",
        "                 \"Pseudo Periodic with AutoRegression and White Noise\")"
      ],
      "metadata": {
        "colab": {
          "base_uri": "https://localhost:8080/",
          "height": 517
        },
        "id": "ZBSZIje7clC5",
        "outputId": "814163a9-1c52-4e11-be2a-81b947f9a681"
      },
      "execution_count": 13,
      "outputs": [
        {
          "output_type": "display_data",
          "data": {
            "text/html": [
              "<html>\n",
              "<head><meta charset=\"utf-8\" /></head>\n",
              "<body>\n",
              "    <div>            <script src=\"https://cdnjs.cloudflare.com/ajax/libs/mathjax/2.7.5/MathJax.js?config=TeX-AMS-MML_SVG\"></script><script type=\"text/javascript\">if (window.MathJax && window.MathJax.Hub && window.MathJax.Hub.Config) {window.MathJax.Hub.Config({SVG: {font: \"STIX-Web\"}});}</script>                <script type=\"text/javascript\">window.PlotlyConfig = {MathJaxConfig: 'local'};</script>\n",
              "        <script charset=\"utf-8\" src=\"https://cdn.plot.ly/plotly-2.35.2.min.js\"></script>                <div id=\"a027b2df-7eef-4431-8d89-602fc8c00a46\" class=\"plotly-graph-div\" style=\"height:500px; width:900px;\"></div>            <script type=\"text/javascript\">                                    window.PLOTLYENV=window.PLOTLYENV || {};                                    if (document.getElementById(\"a027b2df-7eef-4431-8d89-602fc8c00a46\")) {                    Plotly.newPlot(                        \"a027b2df-7eef-4431-8d89-602fc8c00a46\",                        [{\"hovertemplate\":\"Time=%{x}\\u003cbr\\u003eValue=%{y}\\u003cextra\\u003e\\u003c\\u002fextra\\u003e\",\"legendgroup\":\"\",\"line\":{\"color\":\"#636efa\",\"dash\":\"solid\"},\"marker\":{\"symbol\":\"circle\"},\"mode\":\"lines\",\"name\":\"\",\"orientation\":\"v\",\"showlegend\":false,\"x\":[0.0,0.20202020202020202,0.40404040404040403,0.6060606060606061,0.8080808080808081,1.0101010101010102,1.2121212121212122,1.4141414141414141,1.6161616161616161,1.8181818181818181,2.0202020202020203,2.2222222222222223,2.4242424242424243,2.6262626262626263,2.8282828282828283,3.0303030303030303,3.2323232323232323,3.4343434343434343,3.6363636363636362,3.8383838383838382,4.040404040404041,4.242424242424242,4.444444444444445,4.646464646464646,4.848484848484849,5.05050505050505,5.252525252525253,5.454545454545454,5.656565656565657,5.858585858585858,6.0606060606060606,6.262626262626262,6.4646464646464645,6.666666666666667,6.8686868686868685,7.070707070707071,7.2727272727272725,7.474747474747475,7.6767676767676765,7.878787878787879,8.080808080808081,8.282828282828282,8.484848484848484,8.686868686868687,8.88888888888889,9.09090909090909,9.292929292929292,9.494949494949495,9.696969696969697,9.8989898989899,10.1010101010101,10.303030303030303,10.505050505050505,10.707070707070708,10.909090909090908,11.11111111111111,11.313131313131313,11.515151515151516,11.717171717171716,11.919191919191919,12.121212121212121,12.323232323232324,12.525252525252524,12.727272727272727,12.929292929292929,13.131313131313131,13.333333333333334,13.535353535353535,13.737373737373737,13.93939393939394,14.141414141414142,14.343434343434343,14.545454545454545,14.747474747474747,14.94949494949495,15.15151515151515,15.353535353535353,15.555555555555555,15.757575757575758,15.959595959595958,16.161616161616163,16.363636363636363,16.565656565656564,16.767676767676768,16.96969696969697,17.171717171717173,17.373737373737374,17.575757575757574,17.77777777777778,17.97979797979798,18.18181818181818,18.383838383838384,18.585858585858585,18.78787878787879,18.98989898989899,19.19191919191919,19.393939393939394,19.595959595959595,19.7979797979798,20.0],\"xaxis\":\"x\",\"y\":[1.3528923213473318,0.30138286165365885,-0.7858471936240499,-2.0164440710619527,-2.295001172418485,-0.6013494878327175,3.0254985737654003,2.6524727945644915,3.1999646359445606,2.768851871874917,4.058009619765073,0.14020521841418976,4.127813496977093,1.8118166013926387,-0.4391352242547507,0.12920945285324348,-3.5722413633775623,-2.8607706521987093,-0.5321067733793563,-1.876047642315978,1.0199145056783245,1.732099582332014,0.9486105230773356,-1.1243923221857857,-2.8815741361790224,1.6229358999840726,-1.593068599952668,0.44016618179238476,-3.582933517017443,0.3750964903283939,4.281746367955164,-1.5723110392245148,-0.8927221126849224,-1.8303059156680241,-4.968687507689809,-4.20087226412363,-0.057401993191962486,-2.232014539340386,-0.45828111434763263,-1.2151485690653137,-0.8117566043626927,-0.8209900433385211,-1.3640163837344612,-0.13570474158177337,0.9668430072417831,-0.9922744916362352,-1.8151621648123741,-2.2148850831295492,-0.08041531738260876,-2.121780912753685,2.4001022506748435,-0.2940058409492925,3.066652191707859,-2.221698049141892,-1.0046929754244196,-1.6338900085401564,-0.1680859388850453,-2.7410261060994268,-1.492392866400207,0.9547368739272661,-0.4997490575936281,1.4297804648348302,3.4228690859773416,1.5840544226625242,-2.3841890104505765,0.14299906460395712,1.701672642947806,2.8659955538057047,1.7277940126244895,5.0339360309170935,2.960770775446895,1.730814759047134,1.4458570608290429,-2.6715842221557144,-0.9947021095159707,-2.2264483106168234,-3.8418771246105297,-0.7556276702958464,-2.1702923709328434,-1.7271960160807898,1.4211245082825124,-1.2277949509925064,1.3387422917293017,3.859925018696546,2.871145417271212,2.022789786711395,-0.6288162515970059,-1.0977517693389394,1.02860313939491,0.05925287438049549,2.9290431215631805,-0.14351459570639463,0.750817279609076,-1.7667076142108513,-0.9780541395310727,-1.197137255269228,-0.08575094739014244,-3.8561571486964823,-1.4093734243892446,-3.083930921907474],\"yaxis\":\"y\",\"type\":\"scatter\"}],                        {\"template\":{\"data\":{\"histogram2dcontour\":[{\"type\":\"histogram2dcontour\",\"colorbar\":{\"outlinewidth\":0,\"ticks\":\"\"},\"colorscale\":[[0.0,\"#0d0887\"],[0.1111111111111111,\"#46039f\"],[0.2222222222222222,\"#7201a8\"],[0.3333333333333333,\"#9c179e\"],[0.4444444444444444,\"#bd3786\"],[0.5555555555555556,\"#d8576b\"],[0.6666666666666666,\"#ed7953\"],[0.7777777777777778,\"#fb9f3a\"],[0.8888888888888888,\"#fdca26\"],[1.0,\"#f0f921\"]]}],\"choropleth\":[{\"type\":\"choropleth\",\"colorbar\":{\"outlinewidth\":0,\"ticks\":\"\"}}],\"histogram2d\":[{\"type\":\"histogram2d\",\"colorbar\":{\"outlinewidth\":0,\"ticks\":\"\"},\"colorscale\":[[0.0,\"#0d0887\"],[0.1111111111111111,\"#46039f\"],[0.2222222222222222,\"#7201a8\"],[0.3333333333333333,\"#9c179e\"],[0.4444444444444444,\"#bd3786\"],[0.5555555555555556,\"#d8576b\"],[0.6666666666666666,\"#ed7953\"],[0.7777777777777778,\"#fb9f3a\"],[0.8888888888888888,\"#fdca26\"],[1.0,\"#f0f921\"]]}],\"heatmap\":[{\"type\":\"heatmap\",\"colorbar\":{\"outlinewidth\":0,\"ticks\":\"\"},\"colorscale\":[[0.0,\"#0d0887\"],[0.1111111111111111,\"#46039f\"],[0.2222222222222222,\"#7201a8\"],[0.3333333333333333,\"#9c179e\"],[0.4444444444444444,\"#bd3786\"],[0.5555555555555556,\"#d8576b\"],[0.6666666666666666,\"#ed7953\"],[0.7777777777777778,\"#fb9f3a\"],[0.8888888888888888,\"#fdca26\"],[1.0,\"#f0f921\"]]}],\"heatmapgl\":[{\"type\":\"heatmapgl\",\"colorbar\":{\"outlinewidth\":0,\"ticks\":\"\"},\"colorscale\":[[0.0,\"#0d0887\"],[0.1111111111111111,\"#46039f\"],[0.2222222222222222,\"#7201a8\"],[0.3333333333333333,\"#9c179e\"],[0.4444444444444444,\"#bd3786\"],[0.5555555555555556,\"#d8576b\"],[0.6666666666666666,\"#ed7953\"],[0.7777777777777778,\"#fb9f3a\"],[0.8888888888888888,\"#fdca26\"],[1.0,\"#f0f921\"]]}],\"contourcarpet\":[{\"type\":\"contourcarpet\",\"colorbar\":{\"outlinewidth\":0,\"ticks\":\"\"}}],\"contour\":[{\"type\":\"contour\",\"colorbar\":{\"outlinewidth\":0,\"ticks\":\"\"},\"colorscale\":[[0.0,\"#0d0887\"],[0.1111111111111111,\"#46039f\"],[0.2222222222222222,\"#7201a8\"],[0.3333333333333333,\"#9c179e\"],[0.4444444444444444,\"#bd3786\"],[0.5555555555555556,\"#d8576b\"],[0.6666666666666666,\"#ed7953\"],[0.7777777777777778,\"#fb9f3a\"],[0.8888888888888888,\"#fdca26\"],[1.0,\"#f0f921\"]]}],\"surface\":[{\"type\":\"surface\",\"colorbar\":{\"outlinewidth\":0,\"ticks\":\"\"},\"colorscale\":[[0.0,\"#0d0887\"],[0.1111111111111111,\"#46039f\"],[0.2222222222222222,\"#7201a8\"],[0.3333333333333333,\"#9c179e\"],[0.4444444444444444,\"#bd3786\"],[0.5555555555555556,\"#d8576b\"],[0.6666666666666666,\"#ed7953\"],[0.7777777777777778,\"#fb9f3a\"],[0.8888888888888888,\"#fdca26\"],[1.0,\"#f0f921\"]]}],\"mesh3d\":[{\"type\":\"mesh3d\",\"colorbar\":{\"outlinewidth\":0,\"ticks\":\"\"}}],\"scatter\":[{\"fillpattern\":{\"fillmode\":\"overlay\",\"size\":10,\"solidity\":0.2},\"type\":\"scatter\"}],\"parcoords\":[{\"type\":\"parcoords\",\"line\":{\"colorbar\":{\"outlinewidth\":0,\"ticks\":\"\"}}}],\"scatterpolargl\":[{\"type\":\"scatterpolargl\",\"marker\":{\"colorbar\":{\"outlinewidth\":0,\"ticks\":\"\"}}}],\"bar\":[{\"error_x\":{\"color\":\"#2a3f5f\"},\"error_y\":{\"color\":\"#2a3f5f\"},\"marker\":{\"line\":{\"color\":\"white\",\"width\":0.5},\"pattern\":{\"fillmode\":\"overlay\",\"size\":10,\"solidity\":0.2}},\"type\":\"bar\"}],\"scattergeo\":[{\"type\":\"scattergeo\",\"marker\":{\"colorbar\":{\"outlinewidth\":0,\"ticks\":\"\"}}}],\"scatterpolar\":[{\"type\":\"scatterpolar\",\"marker\":{\"colorbar\":{\"outlinewidth\":0,\"ticks\":\"\"}}}],\"histogram\":[{\"marker\":{\"pattern\":{\"fillmode\":\"overlay\",\"size\":10,\"solidity\":0.2}},\"type\":\"histogram\"}],\"scattergl\":[{\"type\":\"scattergl\",\"marker\":{\"colorbar\":{\"outlinewidth\":0,\"ticks\":\"\"}}}],\"scatter3d\":[{\"type\":\"scatter3d\",\"line\":{\"colorbar\":{\"outlinewidth\":0,\"ticks\":\"\"}},\"marker\":{\"colorbar\":{\"outlinewidth\":0,\"ticks\":\"\"}}}],\"scattermapbox\":[{\"type\":\"scattermapbox\",\"marker\":{\"colorbar\":{\"outlinewidth\":0,\"ticks\":\"\"}}}],\"scatterternary\":[{\"type\":\"scatterternary\",\"marker\":{\"colorbar\":{\"outlinewidth\":0,\"ticks\":\"\"}}}],\"scattercarpet\":[{\"type\":\"scattercarpet\",\"marker\":{\"colorbar\":{\"outlinewidth\":0,\"ticks\":\"\"}}}],\"carpet\":[{\"aaxis\":{\"endlinecolor\":\"#2a3f5f\",\"gridcolor\":\"#C8D4E3\",\"linecolor\":\"#C8D4E3\",\"minorgridcolor\":\"#C8D4E3\",\"startlinecolor\":\"#2a3f5f\"},\"baxis\":{\"endlinecolor\":\"#2a3f5f\",\"gridcolor\":\"#C8D4E3\",\"linecolor\":\"#C8D4E3\",\"minorgridcolor\":\"#C8D4E3\",\"startlinecolor\":\"#2a3f5f\"},\"type\":\"carpet\"}],\"table\":[{\"cells\":{\"fill\":{\"color\":\"#EBF0F8\"},\"line\":{\"color\":\"white\"}},\"header\":{\"fill\":{\"color\":\"#C8D4E3\"},\"line\":{\"color\":\"white\"}},\"type\":\"table\"}],\"barpolar\":[{\"marker\":{\"line\":{\"color\":\"white\",\"width\":0.5},\"pattern\":{\"fillmode\":\"overlay\",\"size\":10,\"solidity\":0.2}},\"type\":\"barpolar\"}],\"pie\":[{\"automargin\":true,\"type\":\"pie\"}]},\"layout\":{\"autotypenumbers\":\"strict\",\"colorway\":[\"#636efa\",\"#EF553B\",\"#00cc96\",\"#ab63fa\",\"#FFA15A\",\"#19d3f3\",\"#FF6692\",\"#B6E880\",\"#FF97FF\",\"#FECB52\"],\"font\":{\"color\":\"#2a3f5f\"},\"hovermode\":\"closest\",\"hoverlabel\":{\"align\":\"left\"},\"paper_bgcolor\":\"white\",\"plot_bgcolor\":\"white\",\"polar\":{\"bgcolor\":\"white\",\"angularaxis\":{\"gridcolor\":\"#EBF0F8\",\"linecolor\":\"#EBF0F8\",\"ticks\":\"\"},\"radialaxis\":{\"gridcolor\":\"#EBF0F8\",\"linecolor\":\"#EBF0F8\",\"ticks\":\"\"}},\"ternary\":{\"bgcolor\":\"white\",\"aaxis\":{\"gridcolor\":\"#DFE8F3\",\"linecolor\":\"#A2B1C6\",\"ticks\":\"\"},\"baxis\":{\"gridcolor\":\"#DFE8F3\",\"linecolor\":\"#A2B1C6\",\"ticks\":\"\"},\"caxis\":{\"gridcolor\":\"#DFE8F3\",\"linecolor\":\"#A2B1C6\",\"ticks\":\"\"}},\"coloraxis\":{\"colorbar\":{\"outlinewidth\":0,\"ticks\":\"\"}},\"colorscale\":{\"sequential\":[[0.0,\"#0d0887\"],[0.1111111111111111,\"#46039f\"],[0.2222222222222222,\"#7201a8\"],[0.3333333333333333,\"#9c179e\"],[0.4444444444444444,\"#bd3786\"],[0.5555555555555556,\"#d8576b\"],[0.6666666666666666,\"#ed7953\"],[0.7777777777777778,\"#fb9f3a\"],[0.8888888888888888,\"#fdca26\"],[1.0,\"#f0f921\"]],\"sequentialminus\":[[0.0,\"#0d0887\"],[0.1111111111111111,\"#46039f\"],[0.2222222222222222,\"#7201a8\"],[0.3333333333333333,\"#9c179e\"],[0.4444444444444444,\"#bd3786\"],[0.5555555555555556,\"#d8576b\"],[0.6666666666666666,\"#ed7953\"],[0.7777777777777778,\"#fb9f3a\"],[0.8888888888888888,\"#fdca26\"],[1.0,\"#f0f921\"]],\"diverging\":[[0,\"#8e0152\"],[0.1,\"#c51b7d\"],[0.2,\"#de77ae\"],[0.3,\"#f1b6da\"],[0.4,\"#fde0ef\"],[0.5,\"#f7f7f7\"],[0.6,\"#e6f5d0\"],[0.7,\"#b8e186\"],[0.8,\"#7fbc41\"],[0.9,\"#4d9221\"],[1,\"#276419\"]]},\"xaxis\":{\"gridcolor\":\"#EBF0F8\",\"linecolor\":\"#EBF0F8\",\"ticks\":\"\",\"title\":{\"standoff\":15},\"zerolinecolor\":\"#EBF0F8\",\"automargin\":true,\"zerolinewidth\":2},\"yaxis\":{\"gridcolor\":\"#EBF0F8\",\"linecolor\":\"#EBF0F8\",\"ticks\":\"\",\"title\":{\"standoff\":15},\"zerolinecolor\":\"#EBF0F8\",\"automargin\":true,\"zerolinewidth\":2},\"scene\":{\"xaxis\":{\"backgroundcolor\":\"white\",\"gridcolor\":\"#DFE8F3\",\"linecolor\":\"#EBF0F8\",\"showbackground\":true,\"ticks\":\"\",\"zerolinecolor\":\"#EBF0F8\",\"gridwidth\":2},\"yaxis\":{\"backgroundcolor\":\"white\",\"gridcolor\":\"#DFE8F3\",\"linecolor\":\"#EBF0F8\",\"showbackground\":true,\"ticks\":\"\",\"zerolinecolor\":\"#EBF0F8\",\"gridwidth\":2},\"zaxis\":{\"backgroundcolor\":\"white\",\"gridcolor\":\"#DFE8F3\",\"linecolor\":\"#EBF0F8\",\"showbackground\":true,\"ticks\":\"\",\"zerolinecolor\":\"#EBF0F8\",\"gridwidth\":2}},\"shapedefaults\":{\"line\":{\"color\":\"#2a3f5f\"}},\"annotationdefaults\":{\"arrowcolor\":\"#2a3f5f\",\"arrowhead\":0,\"arrowwidth\":1},\"geo\":{\"bgcolor\":\"white\",\"landcolor\":\"white\",\"subunitcolor\":\"#C8D4E3\",\"showland\":true,\"showlakes\":true,\"lakecolor\":\"white\"},\"title\":{\"x\":0.05},\"mapbox\":{\"style\":\"light\"}}},\"xaxis\":{\"anchor\":\"y\",\"domain\":[0.0,1.0],\"title\":{\"text\":\"Time\",\"font\":{\"size\":12}}},\"yaxis\":{\"anchor\":\"x\",\"domain\":[0.0,1.0],\"title\":{\"text\":\"Value\",\"font\":{\"size\":12}}},\"legend\":{\"tracegroupgap\":0},\"margin\":{\"t\":60},\"title\":{\"font\":{\"size\":25},\"text\":\"Pseudo Periodic with AutoRegression and White Noise\",\"x\":0.5,\"xanchor\":\"center\",\"yanchor\":\"top\"},\"autosize\":false,\"width\":900,\"height\":500},                        {\"responsive\": true}                    ).then(function(){\n",
              "                            \n",
              "var gd = document.getElementById('a027b2df-7eef-4431-8d89-602fc8c00a46');\n",
              "var x = new MutationObserver(function (mutations, observer) {{\n",
              "        var display = window.getComputedStyle(gd).display;\n",
              "        if (!display || display === 'none') {{\n",
              "            console.log([gd, 'removed!']);\n",
              "            Plotly.purge(gd);\n",
              "            observer.disconnect();\n",
              "        }}\n",
              "}});\n",
              "\n",
              "// Listen for the removal of the full notebook cells\n",
              "var notebookContainer = gd.closest('#notebook-container');\n",
              "if (notebookContainer) {{\n",
              "    x.observe(notebookContainer, {childList: true});\n",
              "}}\n",
              "\n",
              "// Listen for the clearing of the current output cell\n",
              "var outputEl = gd.closest('.output');\n",
              "if (outputEl) {{\n",
              "    x.observe(outputEl, {childList: true});\n",
              "}}\n",
              "\n",
              "                        })                };                            </script>        </div>\n",
              "</body>\n",
              "</html>"
            ]
          },
          "metadata": {}
        }
      ]
    },
    {
      "cell_type": "markdown",
      "source": [
        "**Stationary and non-stationary time series**\n",
        "\n",
        "In time series, stationarity is of great significance and is a key assumption in many modeling approaches. Ironically, many (if not most) real-world time series are non-stationary. So, let’s understand what a stationary time series is from a layman’s point of view.\n",
        "\n",
        "There are multiple ways to look at stationarity, but one of the clearest and most intuitive ways is to think of the probability distribution or the data distribution of a time series. We call a time series stationary when the probability distribution remains the same at every point in time. In other words, if you pick different windows in time, the data distribution across all those windows should be the same.\n",
        "\n",
        "A standard Gaussian distribution is defined by two parameters—the mean and the variance. So, there are two ways the stationarity assumption can be broken, as outlined here:\n",
        "\n",
        "**Change in mean over time**\n",
        "\n",
        "**Change in variance over time**\n",
        "\n",
        "Let’s look at these assumptions in detail and understand them better.\n",
        "\n",
        "**Change in mean over time**\n",
        "\n",
        "This is the most popular way a non-stationary time series presents itself. If there is an upward/downward trend in the time series, the mean across two windows of time would not be the same.\n",
        "\n",
        "Another way non-stationarity manifests itself is in the form of seasonality. Suppose we are looking at the time series of average temperature measurements per month for the last 5 years. From our experience, we know that temperature peaks during summer and falls in winter. So, when we take the mean temperature of winter and the mean temperature of summer, they will be different."
      ],
      "metadata": {
        "id": "yf1xKsvRh79J"
      }
    },
    {
      "cell_type": "code",
      "source": [
        "import timesynth as ts # reimporting to correct the overwritten name\n",
        "# Sinusoidal Signal with Amplitude=1 & Frequency=0.25\n",
        "signal=ts.signals.Sinusoidal(amplitude=1, frequency=0.25)\n",
        "# White Noise with standard deviation = 0.3\n",
        "noise=ts.noise.GaussianNoise(std=0.3)\n",
        "# Generate the time series\n",
        "sinusoidal_samples, regular_time_samples, _, _ = generate_timeseries(signal=signal, noise=noise)\n",
        "# Regular_time_samples is a linear increasing time axis and can be used as a trend\n",
        "trend = regular_time_samples*0.4\n",
        "# Combining the signal and trend\n",
        "ts_new = sinusoidal_samples+trend # changing to ts_new\n",
        "plot_time_series(regular_time_samples,\n",
        "                 ts_new,  # using ts_new variable for plotting\n",
        "                 \"Sinusoidal with Trend and White Noise\")"
      ],
      "metadata": {
        "colab": {
          "base_uri": "https://localhost:8080/",
          "height": 517
        },
        "id": "CV5NQsXeeNg8",
        "outputId": "beaa44e6-0fb3-49c7-b021-75d68f2e5c7c"
      },
      "execution_count": 17,
      "outputs": [
        {
          "output_type": "display_data",
          "data": {
            "text/html": [
              "<html>\n",
              "<head><meta charset=\"utf-8\" /></head>\n",
              "<body>\n",
              "    <div>            <script src=\"https://cdnjs.cloudflare.com/ajax/libs/mathjax/2.7.5/MathJax.js?config=TeX-AMS-MML_SVG\"></script><script type=\"text/javascript\">if (window.MathJax && window.MathJax.Hub && window.MathJax.Hub.Config) {window.MathJax.Hub.Config({SVG: {font: \"STIX-Web\"}});}</script>                <script type=\"text/javascript\">window.PlotlyConfig = {MathJaxConfig: 'local'};</script>\n",
              "        <script charset=\"utf-8\" src=\"https://cdn.plot.ly/plotly-2.35.2.min.js\"></script>                <div id=\"401d6baf-38fa-4dbb-99ed-6df14be732f5\" class=\"plotly-graph-div\" style=\"height:500px; width:900px;\"></div>            <script type=\"text/javascript\">                                    window.PLOTLYENV=window.PLOTLYENV || {};                                    if (document.getElementById(\"401d6baf-38fa-4dbb-99ed-6df14be732f5\")) {                    Plotly.newPlot(                        \"401d6baf-38fa-4dbb-99ed-6df14be732f5\",                        [{\"hovertemplate\":\"Time=%{x}\\u003cbr\\u003eValue=%{y}\\u003cextra\\u003e\\u003c\\u002fextra\\u003e\",\"legendgroup\":\"\",\"line\":{\"color\":\"#636efa\",\"dash\":\"solid\"},\"marker\":{\"symbol\":\"circle\"},\"mode\":\"lines\",\"name\":\"\",\"orientation\":\"v\",\"showlegend\":false,\"x\":[0.0,0.20202020202020202,0.40404040404040403,0.6060606060606061,0.8080808080808081,1.0101010101010102,1.2121212121212122,1.4141414141414141,1.6161616161616161,1.8181818181818181,2.0202020202020203,2.2222222222222223,2.4242424242424243,2.6262626262626263,2.8282828282828283,3.0303030303030303,3.2323232323232323,3.4343434343434343,3.6363636363636362,3.8383838383838382,4.040404040404041,4.242424242424242,4.444444444444445,4.646464646464646,4.848484848484849,5.05050505050505,5.252525252525253,5.454545454545454,5.656565656565657,5.858585858585858,6.0606060606060606,6.262626262626262,6.4646464646464645,6.666666666666667,6.8686868686868685,7.070707070707071,7.2727272727272725,7.474747474747475,7.6767676767676765,7.878787878787879,8.080808080808081,8.282828282828282,8.484848484848484,8.686868686868687,8.88888888888889,9.09090909090909,9.292929292929292,9.494949494949495,9.696969696969697,9.8989898989899,10.1010101010101,10.303030303030303,10.505050505050505,10.707070707070708,10.909090909090908,11.11111111111111,11.313131313131313,11.515151515151516,11.717171717171716,11.919191919191919,12.121212121212121,12.323232323232324,12.525252525252524,12.727272727272727,12.929292929292929,13.131313131313131,13.333333333333334,13.535353535353535,13.737373737373737,13.93939393939394,14.141414141414142,14.343434343434343,14.545454545454545,14.747474747474747,14.94949494949495,15.15151515151515,15.353535353535353,15.555555555555555,15.757575757575758,15.959595959595958,16.161616161616163,16.363636363636363,16.565656565656564,16.767676767676768,16.96969696969697,17.171717171717173,17.373737373737374,17.575757575757574,17.77777777777778,17.97979797979798,18.18181818181818,18.383838383838384,18.585858585858585,18.78787878787879,18.98989898989899,19.19191919191919,19.393939393939394,19.595959595959595,19.7979797979798,20.0],\"xaxis\":\"x\",\"y\":[-0.1493315135161103,0.8619689749114088,0.9122339761954666,1.3590138181246099,1.7700332793484932,1.3127363684973414,1.2054755012911518,1.5248052120199374,1.1495469026964393,0.9183785192756688,1.1669964626915412,0.34349140790702604,0.24259011026949273,-0.13980076676651132,0.1350903462248404,-0.10361645543731135,0.6796527998488142,0.6451110291945163,0.7789080968247598,0.8720608116593989,1.9395094404600677,1.870396259920099,2.702576686601504,2.4766478408583548,2.868953377203203,3.19756409741999,3.3207403836660605,3.3603651977949696,2.7423379000815835,1.9038072553128877,2.9002287371377515,2.3236346385086275,1.8290481417374793,2.434663520973113,1.459610630846822,1.7439580122506229,2.076127764974926,2.2264686080998164,2.6723735480535384,3.22417844185638,3.51689652263829,3.2773411861959625,3.9012845818431785,4.289081313311037,4.354584962996803,4.714882060214189,4.624156427996576,4.7707282459909095,4.379110308487267,3.9969079906603167,3.776864838159301,3.5387543488867257,3.9407744283129533,3.4739583410308823,3.4019681702553832,3.6744825367296063,3.8840179159699937,3.8249782140130733,4.577165351208662,4.771515125514497,5.0486440936678205,5.271932473638006,5.621607241679486,6.284051537762995,5.724371149032588,5.783846863311877,6.121221736245524,6.389762331061188,6.035403406672795,5.762327467338809,5.297553681841827,5.869408946396614,4.914611862457576,5.343690858623844,5.1654637843172875,4.669551053339434,5.483594044121714,6.039081684467741,5.799130991924366,6.079726891056863,6.550047009701646,6.766328822218141,7.835698971261888,7.912648990089877,7.822475699639218,7.894050596534392,7.402049226434675,7.093451676066944,7.398430412065925,6.953532422361811,6.907517417531641,6.487472538221721,6.665517452577036,6.256317573623776,6.634461947059371,6.73226480651059,6.778557289273074,7.1116518610401425,8.162408041565389,8.72703794189399],\"yaxis\":\"y\",\"type\":\"scatter\"}],                        {\"template\":{\"data\":{\"histogram2dcontour\":[{\"type\":\"histogram2dcontour\",\"colorbar\":{\"outlinewidth\":0,\"ticks\":\"\"},\"colorscale\":[[0.0,\"#0d0887\"],[0.1111111111111111,\"#46039f\"],[0.2222222222222222,\"#7201a8\"],[0.3333333333333333,\"#9c179e\"],[0.4444444444444444,\"#bd3786\"],[0.5555555555555556,\"#d8576b\"],[0.6666666666666666,\"#ed7953\"],[0.7777777777777778,\"#fb9f3a\"],[0.8888888888888888,\"#fdca26\"],[1.0,\"#f0f921\"]]}],\"choropleth\":[{\"type\":\"choropleth\",\"colorbar\":{\"outlinewidth\":0,\"ticks\":\"\"}}],\"histogram2d\":[{\"type\":\"histogram2d\",\"colorbar\":{\"outlinewidth\":0,\"ticks\":\"\"},\"colorscale\":[[0.0,\"#0d0887\"],[0.1111111111111111,\"#46039f\"],[0.2222222222222222,\"#7201a8\"],[0.3333333333333333,\"#9c179e\"],[0.4444444444444444,\"#bd3786\"],[0.5555555555555556,\"#d8576b\"],[0.6666666666666666,\"#ed7953\"],[0.7777777777777778,\"#fb9f3a\"],[0.8888888888888888,\"#fdca26\"],[1.0,\"#f0f921\"]]}],\"heatmap\":[{\"type\":\"heatmap\",\"colorbar\":{\"outlinewidth\":0,\"ticks\":\"\"},\"colorscale\":[[0.0,\"#0d0887\"],[0.1111111111111111,\"#46039f\"],[0.2222222222222222,\"#7201a8\"],[0.3333333333333333,\"#9c179e\"],[0.4444444444444444,\"#bd3786\"],[0.5555555555555556,\"#d8576b\"],[0.6666666666666666,\"#ed7953\"],[0.7777777777777778,\"#fb9f3a\"],[0.8888888888888888,\"#fdca26\"],[1.0,\"#f0f921\"]]}],\"heatmapgl\":[{\"type\":\"heatmapgl\",\"colorbar\":{\"outlinewidth\":0,\"ticks\":\"\"},\"colorscale\":[[0.0,\"#0d0887\"],[0.1111111111111111,\"#46039f\"],[0.2222222222222222,\"#7201a8\"],[0.3333333333333333,\"#9c179e\"],[0.4444444444444444,\"#bd3786\"],[0.5555555555555556,\"#d8576b\"],[0.6666666666666666,\"#ed7953\"],[0.7777777777777778,\"#fb9f3a\"],[0.8888888888888888,\"#fdca26\"],[1.0,\"#f0f921\"]]}],\"contourcarpet\":[{\"type\":\"contourcarpet\",\"colorbar\":{\"outlinewidth\":0,\"ticks\":\"\"}}],\"contour\":[{\"type\":\"contour\",\"colorbar\":{\"outlinewidth\":0,\"ticks\":\"\"},\"colorscale\":[[0.0,\"#0d0887\"],[0.1111111111111111,\"#46039f\"],[0.2222222222222222,\"#7201a8\"],[0.3333333333333333,\"#9c179e\"],[0.4444444444444444,\"#bd3786\"],[0.5555555555555556,\"#d8576b\"],[0.6666666666666666,\"#ed7953\"],[0.7777777777777778,\"#fb9f3a\"],[0.8888888888888888,\"#fdca26\"],[1.0,\"#f0f921\"]]}],\"surface\":[{\"type\":\"surface\",\"colorbar\":{\"outlinewidth\":0,\"ticks\":\"\"},\"colorscale\":[[0.0,\"#0d0887\"],[0.1111111111111111,\"#46039f\"],[0.2222222222222222,\"#7201a8\"],[0.3333333333333333,\"#9c179e\"],[0.4444444444444444,\"#bd3786\"],[0.5555555555555556,\"#d8576b\"],[0.6666666666666666,\"#ed7953\"],[0.7777777777777778,\"#fb9f3a\"],[0.8888888888888888,\"#fdca26\"],[1.0,\"#f0f921\"]]}],\"mesh3d\":[{\"type\":\"mesh3d\",\"colorbar\":{\"outlinewidth\":0,\"ticks\":\"\"}}],\"scatter\":[{\"fillpattern\":{\"fillmode\":\"overlay\",\"size\":10,\"solidity\":0.2},\"type\":\"scatter\"}],\"parcoords\":[{\"type\":\"parcoords\",\"line\":{\"colorbar\":{\"outlinewidth\":0,\"ticks\":\"\"}}}],\"scatterpolargl\":[{\"type\":\"scatterpolargl\",\"marker\":{\"colorbar\":{\"outlinewidth\":0,\"ticks\":\"\"}}}],\"bar\":[{\"error_x\":{\"color\":\"#2a3f5f\"},\"error_y\":{\"color\":\"#2a3f5f\"},\"marker\":{\"line\":{\"color\":\"white\",\"width\":0.5},\"pattern\":{\"fillmode\":\"overlay\",\"size\":10,\"solidity\":0.2}},\"type\":\"bar\"}],\"scattergeo\":[{\"type\":\"scattergeo\",\"marker\":{\"colorbar\":{\"outlinewidth\":0,\"ticks\":\"\"}}}],\"scatterpolar\":[{\"type\":\"scatterpolar\",\"marker\":{\"colorbar\":{\"outlinewidth\":0,\"ticks\":\"\"}}}],\"histogram\":[{\"marker\":{\"pattern\":{\"fillmode\":\"overlay\",\"size\":10,\"solidity\":0.2}},\"type\":\"histogram\"}],\"scattergl\":[{\"type\":\"scattergl\",\"marker\":{\"colorbar\":{\"outlinewidth\":0,\"ticks\":\"\"}}}],\"scatter3d\":[{\"type\":\"scatter3d\",\"line\":{\"colorbar\":{\"outlinewidth\":0,\"ticks\":\"\"}},\"marker\":{\"colorbar\":{\"outlinewidth\":0,\"ticks\":\"\"}}}],\"scattermapbox\":[{\"type\":\"scattermapbox\",\"marker\":{\"colorbar\":{\"outlinewidth\":0,\"ticks\":\"\"}}}],\"scatterternary\":[{\"type\":\"scatterternary\",\"marker\":{\"colorbar\":{\"outlinewidth\":0,\"ticks\":\"\"}}}],\"scattercarpet\":[{\"type\":\"scattercarpet\",\"marker\":{\"colorbar\":{\"outlinewidth\":0,\"ticks\":\"\"}}}],\"carpet\":[{\"aaxis\":{\"endlinecolor\":\"#2a3f5f\",\"gridcolor\":\"#C8D4E3\",\"linecolor\":\"#C8D4E3\",\"minorgridcolor\":\"#C8D4E3\",\"startlinecolor\":\"#2a3f5f\"},\"baxis\":{\"endlinecolor\":\"#2a3f5f\",\"gridcolor\":\"#C8D4E3\",\"linecolor\":\"#C8D4E3\",\"minorgridcolor\":\"#C8D4E3\",\"startlinecolor\":\"#2a3f5f\"},\"type\":\"carpet\"}],\"table\":[{\"cells\":{\"fill\":{\"color\":\"#EBF0F8\"},\"line\":{\"color\":\"white\"}},\"header\":{\"fill\":{\"color\":\"#C8D4E3\"},\"line\":{\"color\":\"white\"}},\"type\":\"table\"}],\"barpolar\":[{\"marker\":{\"line\":{\"color\":\"white\",\"width\":0.5},\"pattern\":{\"fillmode\":\"overlay\",\"size\":10,\"solidity\":0.2}},\"type\":\"barpolar\"}],\"pie\":[{\"automargin\":true,\"type\":\"pie\"}]},\"layout\":{\"autotypenumbers\":\"strict\",\"colorway\":[\"#636efa\",\"#EF553B\",\"#00cc96\",\"#ab63fa\",\"#FFA15A\",\"#19d3f3\",\"#FF6692\",\"#B6E880\",\"#FF97FF\",\"#FECB52\"],\"font\":{\"color\":\"#2a3f5f\"},\"hovermode\":\"closest\",\"hoverlabel\":{\"align\":\"left\"},\"paper_bgcolor\":\"white\",\"plot_bgcolor\":\"white\",\"polar\":{\"bgcolor\":\"white\",\"angularaxis\":{\"gridcolor\":\"#EBF0F8\",\"linecolor\":\"#EBF0F8\",\"ticks\":\"\"},\"radialaxis\":{\"gridcolor\":\"#EBF0F8\",\"linecolor\":\"#EBF0F8\",\"ticks\":\"\"}},\"ternary\":{\"bgcolor\":\"white\",\"aaxis\":{\"gridcolor\":\"#DFE8F3\",\"linecolor\":\"#A2B1C6\",\"ticks\":\"\"},\"baxis\":{\"gridcolor\":\"#DFE8F3\",\"linecolor\":\"#A2B1C6\",\"ticks\":\"\"},\"caxis\":{\"gridcolor\":\"#DFE8F3\",\"linecolor\":\"#A2B1C6\",\"ticks\":\"\"}},\"coloraxis\":{\"colorbar\":{\"outlinewidth\":0,\"ticks\":\"\"}},\"colorscale\":{\"sequential\":[[0.0,\"#0d0887\"],[0.1111111111111111,\"#46039f\"],[0.2222222222222222,\"#7201a8\"],[0.3333333333333333,\"#9c179e\"],[0.4444444444444444,\"#bd3786\"],[0.5555555555555556,\"#d8576b\"],[0.6666666666666666,\"#ed7953\"],[0.7777777777777778,\"#fb9f3a\"],[0.8888888888888888,\"#fdca26\"],[1.0,\"#f0f921\"]],\"sequentialminus\":[[0.0,\"#0d0887\"],[0.1111111111111111,\"#46039f\"],[0.2222222222222222,\"#7201a8\"],[0.3333333333333333,\"#9c179e\"],[0.4444444444444444,\"#bd3786\"],[0.5555555555555556,\"#d8576b\"],[0.6666666666666666,\"#ed7953\"],[0.7777777777777778,\"#fb9f3a\"],[0.8888888888888888,\"#fdca26\"],[1.0,\"#f0f921\"]],\"diverging\":[[0,\"#8e0152\"],[0.1,\"#c51b7d\"],[0.2,\"#de77ae\"],[0.3,\"#f1b6da\"],[0.4,\"#fde0ef\"],[0.5,\"#f7f7f7\"],[0.6,\"#e6f5d0\"],[0.7,\"#b8e186\"],[0.8,\"#7fbc41\"],[0.9,\"#4d9221\"],[1,\"#276419\"]]},\"xaxis\":{\"gridcolor\":\"#EBF0F8\",\"linecolor\":\"#EBF0F8\",\"ticks\":\"\",\"title\":{\"standoff\":15},\"zerolinecolor\":\"#EBF0F8\",\"automargin\":true,\"zerolinewidth\":2},\"yaxis\":{\"gridcolor\":\"#EBF0F8\",\"linecolor\":\"#EBF0F8\",\"ticks\":\"\",\"title\":{\"standoff\":15},\"zerolinecolor\":\"#EBF0F8\",\"automargin\":true,\"zerolinewidth\":2},\"scene\":{\"xaxis\":{\"backgroundcolor\":\"white\",\"gridcolor\":\"#DFE8F3\",\"linecolor\":\"#EBF0F8\",\"showbackground\":true,\"ticks\":\"\",\"zerolinecolor\":\"#EBF0F8\",\"gridwidth\":2},\"yaxis\":{\"backgroundcolor\":\"white\",\"gridcolor\":\"#DFE8F3\",\"linecolor\":\"#EBF0F8\",\"showbackground\":true,\"ticks\":\"\",\"zerolinecolor\":\"#EBF0F8\",\"gridwidth\":2},\"zaxis\":{\"backgroundcolor\":\"white\",\"gridcolor\":\"#DFE8F3\",\"linecolor\":\"#EBF0F8\",\"showbackground\":true,\"ticks\":\"\",\"zerolinecolor\":\"#EBF0F8\",\"gridwidth\":2}},\"shapedefaults\":{\"line\":{\"color\":\"#2a3f5f\"}},\"annotationdefaults\":{\"arrowcolor\":\"#2a3f5f\",\"arrowhead\":0,\"arrowwidth\":1},\"geo\":{\"bgcolor\":\"white\",\"landcolor\":\"white\",\"subunitcolor\":\"#C8D4E3\",\"showland\":true,\"showlakes\":true,\"lakecolor\":\"white\"},\"title\":{\"x\":0.05},\"mapbox\":{\"style\":\"light\"}}},\"xaxis\":{\"anchor\":\"y\",\"domain\":[0.0,1.0],\"title\":{\"text\":\"Time\",\"font\":{\"size\":12}}},\"yaxis\":{\"anchor\":\"x\",\"domain\":[0.0,1.0],\"title\":{\"text\":\"Value\",\"font\":{\"size\":12}}},\"legend\":{\"tracegroupgap\":0},\"margin\":{\"t\":60},\"title\":{\"font\":{\"size\":25},\"text\":\"Sinusoidal with Trend and White Noise\",\"x\":0.5,\"xanchor\":\"center\",\"yanchor\":\"top\"},\"autosize\":false,\"width\":900,\"height\":500},                        {\"responsive\": true}                    ).then(function(){\n",
              "                            \n",
              "var gd = document.getElementById('401d6baf-38fa-4dbb-99ed-6df14be732f5');\n",
              "var x = new MutationObserver(function (mutations, observer) {{\n",
              "        var display = window.getComputedStyle(gd).display;\n",
              "        if (!display || display === 'none') {{\n",
              "            console.log([gd, 'removed!']);\n",
              "            Plotly.purge(gd);\n",
              "            observer.disconnect();\n",
              "        }}\n",
              "}});\n",
              "\n",
              "// Listen for the removal of the full notebook cells\n",
              "var notebookContainer = gd.closest('#notebook-container');\n",
              "if (notebookContainer) {{\n",
              "    x.observe(notebookContainer, {childList: true});\n",
              "}}\n",
              "\n",
              "// Listen for the clearing of the current output cell\n",
              "var outputEl = gd.closest('.output');\n",
              "if (outputEl) {{\n",
              "    x.observe(outputEl, {childList: true});\n",
              "}}\n",
              "\n",
              "                        })                };                            </script>        </div>\n",
              "</body>\n",
              "</html>"
            ]
          },
          "metadata": {}
        }
      ]
    },
    {
      "cell_type": "markdown",
      "source": [
        "**Change in variance over time**\n",
        "\n",
        "Non-stationarity can also present itself in the fluctuating variance of a time series. If the time series starts off with low variance and as time progresses, the variance keeps getting bigger and bigger, we have a non-stationary time series. In statistics, there is a scary name for this phenomenon—heteroscedasticity. The Air Passengers dataset, which is the “iris dataset” of time series (the most popular, over-used, and useless) is a classic example of a heteroscedastic time series. Let’s look at the plot:"
      ],
      "metadata": {
        "id": "HtVpuerUioYj"
      }
    },
    {
      "cell_type": "markdown",
      "source": [
        "**Forecasting terminology**\n",
        "There are a few terms that will help you understand this book as well as other literature on time series. These terms are described in more detail here:\n",
        "\n",
        "**Forecasting**\n",
        "Forecasting is the prediction of future values of a time series using the known past values of the time series and/or some other related variables. This is very similar to prediction in ML, where we use a model to predict unseen data.\n",
        "\n",
        "**Multivariate forecasting**\n",
        "Multivariate time series consist of more than one time series variable that is not only dependent on its past values but also has some dependency on the other variables. For example, a set of macroeconomic indicators, such as gross domestic product (GDP) and inflation, of a particular country can be considered a multivariate time series. The aim of multivariate forecasting is to come up with a model that captures the interrelationship between the different variables along with its relationship with its past and forecast all the time series together in the future.\n",
        "\n",
        "**Explanatory forecasting**\n",
        "In addition to the past values of a time series, we might use some other information to predict the future values of a time series. For example, when predicting retail store sales, information regarding promotional offers (both historical and future ones) is usually helpful. This type of forecasting, which uses information other than its own history, is called explanatory forecasting.\n",
        "\n",
        "**Backtesting**\n",
        "Setting aside a validation set from your training data to evaluate your models is a practice that is common in the ML world. Backtesting is the time series equivalent of validation, whereby you use the history to evaluate a trained model. We will cover the different ways of doing validation and cross-validation for time series data later.\n",
        "\n",
        "**In-sample and out-sample**\n",
        "Again drawing parallels with ML, in-sample refers to training data and out-sample refers to unseen or testing data. When you hear in-sample metrics, this refers to metrics calculated on training data, and out-sample metrics refers to metrics calculated on testing data.\n",
        "\n",
        "**Exogenous and endogenous variables**\n",
        "Exogenous variables are parallel time series variables that are not modeled directly for output but used to help us model the time series that we are interested in. Typically, exogenous variables are not affected by other variables in the system. Endogenous variables are variables that are affected by other variables in the system. A purely endogenous variable is a variable that is entirely dependent on the other variables in the system. Relaxing the strict assumptions a bit, we can consider the target variable as the endogenous variable and the explanatory regressors we include in the model as exogenous variables.\n",
        "\n",
        "**Forecast combination**\n",
        "Forecast combinations in the time series world are similar to ensembles from the ML world. Forecast combination is a process by which we combine multiple forecasts by using a function, either learned or heuristic-based, such as a simple average of three forecast models."
      ],
      "metadata": {
        "id": "anNXNu8Ui0Lz"
      }
    },
    {
      "cell_type": "code",
      "source": [],
      "metadata": {
        "id": "Y4Fk8kavigPc"
      },
      "execution_count": null,
      "outputs": []
    }
  ]
}